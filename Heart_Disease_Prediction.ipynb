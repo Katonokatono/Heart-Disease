{
  "nbformat": 4,
  "nbformat_minor": 0,
  "metadata": {
    "colab": {
      "name": "Heart_Disease_Prediction.ipynb",
      "provenance": [],
      "collapsed_sections": []
    },
    "kernelspec": {
      "name": "python3",
      "display_name": "Python 3"
    },
    "language_info": {
      "name": "python"
    }
  },
  "cells": [
    {
      "cell_type": "markdown",
      "metadata": {
        "id": "JzRJAAQ8wbDl"
      },
      "source": [
        "#Heart Disease Prediction using Neural Networks"
      ]
    },
    {
      "cell_type": "markdown",
      "metadata": {
        "id": "TVpI65hzwy9J"
      },
      "source": [
        "#**Defining the Question**"
      ]
    },
    {
      "cell_type": "markdown",
      "metadata": {
        "id": "hNTvK8V1E1Az"
      },
      "source": [
        "**Overview**"
      ]
    },
    {
      "cell_type": "markdown",
      "metadata": {
        "id": "KorbX9ZpE8Mu"
      },
      "source": [
        "Heart disease describes a range of conditions that affect your heart. Diseases under the heart disease umbrella include blood vessel diseases, such as coronary artery disease, heart rhythm problems (arrhythmias) and heart defects you’re born with (congenital heart defects), among others.https://www.mayoclinic.org/diseases-conditions/heart-disease/symptoms-causes/syc-20353118"
      ]
    },
    {
      "cell_type": "markdown",
      "metadata": {
        "id": "C4q9ZDt6wiDg"
      },
      "source": [
        "**a)Specifying the Research question**"
      ]
    },
    {
      "cell_type": "markdown",
      "metadata": {
        "id": "CLSAsX0SFj0S"
      },
      "source": [
        "This weeks project will focus on predicting heart disease using neural networks. Based on attributes such as blood pressure, cholesterol levels, heart rate, and other characteristic attributes, patients will be classified according to varying degrees of coronary artery disease. This project will utilize a dataset of 303 patients and distributed by the UCI Deep Learning Repository."
      ]
    },
    {
      "cell_type": "markdown",
      "metadata": {
        "id": "vn1IWxB0w6a_"
      },
      "source": [
        "**b)Defining the metrics of success**"
      ]
    },
    {
      "cell_type": "markdown",
      "metadata": {
        "id": "pSOOmXgOGXZ3"
      },
      "source": [
        "We will need to build a neural network model that corrrectly predicts the likelihood of heart disease occurence.\n",
        "We will need to find the best parameter and evaluate the performance based on the accuracy score and confusion metrics. We will aim for an accuracy score of at least 80%"
      ]
    },
    {
      "cell_type": "markdown",
      "metadata": {
        "id": "cpHMSlK9xE-h"
      },
      "source": [
        "**c) Understanding the context**"
      ]
    },
    {
      "cell_type": "markdown",
      "metadata": {
        "id": "pABzcXCuyyCU"
      },
      "source": [
        "Heart disease often develops over time. You may have early signs or symptoms long before you have serious heart problems. Or, you may not realize you are developing heart disease. The warning signs of heart disease may not be obvious. Also, not every person has the same symptoms.\n",
        "\n",
        "Certain symptoms, such as chest pain, ankle swelling, and shortness of breath may be signals that something is wrong. Learning the warning signs can help you get treatment and help prevent a heart attack or stroke.\n"
      ]
    },
    {
      "cell_type": "markdown",
      "metadata": {
        "id": "rcBKPGgyMGAy"
      },
      "source": [
        "**Data Glossary**"
      ]
    },
    {
      "cell_type": "markdown",
      "metadata": {
        "id": "I547zQjAMI7M"
      },
      "source": [
        "Age.\n",
        "Sex: 1 = Male, 0 = Female.\n",
        "(cp) chest pain type (4 values – Ordinal), 1st value: typical angina, 2nd value: atypical angina, 3rd value: non-anginal pain, 4th value: asymptomatic.\n",
        "(trestbps) resting blood pressure.\n",
        "(chol) serum cholesterol.\n",
        "(Fbs) – fasting blood sugar > 120 mg/dl. \n",
        "(restecg) – resting electrocardiography results.\n",
        "(thalach) – maximum heart rate achieved. \n",
        "(exang) – exercise-induced angina.\n",
        "(oldpeak) – ST depression caused by exercise relative to rest.\n",
        "(slope) – the slope of the peak exercise ST segment.\n",
        "(ca) – the number of major vessels colored by fluoroscopy.\n",
        "(thal) – maximum heart rate achieved (Ordinal), 3 = normal, 6 = fixed defect, 7 = reversible defect."
      ]
    },
    {
      "cell_type": "markdown",
      "metadata": {
        "id": "vQxhS6PCxKuU"
      },
      "source": [
        "**d) Recording the Experimental Design**"
      ]
    },
    {
      "cell_type": "markdown",
      "metadata": {
        "id": "REdaat_zGNTn"
      },
      "source": [
        "* Defining the question\n",
        "* Data Preparation\n",
        "* Data Cleaning\n",
        "* Exploratory data analysis\n",
        "* Modelling\n",
        "* Optimization\n",
        "* Challenging the solution\n",
        "* Conclusion"
      ]
    },
    {
      "cell_type": "markdown",
      "metadata": {
        "id": "5Qgu-L_exSPX"
      },
      "source": [
        "#**Data Preparation**"
      ]
    },
    {
      "cell_type": "markdown",
      "metadata": {
        "id": "6BD7lvUNxYzm"
      },
      "source": [
        "**Importing the libraries**"
      ]
    },
    {
      "cell_type": "code",
      "metadata": {
        "id": "dAOkiqCMwUbu"
      },
      "source": [
        "#Data\n",
        "import numpy as np\n",
        "import pandas as pd\n",
        "import matplotlib.pyplot as plt\n",
        "import seaborn as sns\n",
        "import warnings\n",
        "warnings.filterwarnings('ignore')\n"
      ],
      "execution_count": null,
      "outputs": []
    },
    {
      "cell_type": "markdown",
      "metadata": {
        "id": "0LZ4sqp-xnQR"
      },
      "source": [
        "**Loading the dataset**"
      ]
    },
    {
      "cell_type": "code",
      "metadata": {
        "id": "oPVZE-wdxmVy"
      },
      "source": [
        "data= pd.read_csv('heart.csv')"
      ],
      "execution_count": null,
      "outputs": []
    },
    {
      "cell_type": "markdown",
      "metadata": {
        "id": "nd3E4C5lx5U0"
      },
      "source": [
        "**Accessing basic information about our dataset**"
      ]
    },
    {
      "cell_type": "code",
      "metadata": {
        "colab": {
          "base_uri": "https://localhost:8080/",
          "height": 355
        },
        "id": "BWg0exDwx-SQ",
        "outputId": "e871cbfe-17a1-421d-a35f-18e20cca6ee9"
      },
      "source": [
        "## Previewing the first ten records of our data\n",
        "\n",
        "data.head(10)"
      ],
      "execution_count": null,
      "outputs": [
        {
          "output_type": "execute_result",
          "data": {
            "text/html": [
              "<div>\n",
              "<style scoped>\n",
              "    .dataframe tbody tr th:only-of-type {\n",
              "        vertical-align: middle;\n",
              "    }\n",
              "\n",
              "    .dataframe tbody tr th {\n",
              "        vertical-align: top;\n",
              "    }\n",
              "\n",
              "    .dataframe thead th {\n",
              "        text-align: right;\n",
              "    }\n",
              "</style>\n",
              "<table border=\"1\" class=\"dataframe\">\n",
              "  <thead>\n",
              "    <tr style=\"text-align: right;\">\n",
              "      <th></th>\n",
              "      <th>age</th>\n",
              "      <th>sex</th>\n",
              "      <th>cp</th>\n",
              "      <th>trestbps</th>\n",
              "      <th>chol</th>\n",
              "      <th>fbs</th>\n",
              "      <th>restecg</th>\n",
              "      <th>thalach</th>\n",
              "      <th>exang</th>\n",
              "      <th>oldpeak</th>\n",
              "      <th>slope</th>\n",
              "      <th>ca</th>\n",
              "      <th>thal</th>\n",
              "      <th>target</th>\n",
              "    </tr>\n",
              "  </thead>\n",
              "  <tbody>\n",
              "    <tr>\n",
              "      <th>0</th>\n",
              "      <td>63</td>\n",
              "      <td>1</td>\n",
              "      <td>3</td>\n",
              "      <td>145</td>\n",
              "      <td>233</td>\n",
              "      <td>1</td>\n",
              "      <td>0</td>\n",
              "      <td>150</td>\n",
              "      <td>0</td>\n",
              "      <td>2.3</td>\n",
              "      <td>0</td>\n",
              "      <td>0</td>\n",
              "      <td>1</td>\n",
              "      <td>1</td>\n",
              "    </tr>\n",
              "    <tr>\n",
              "      <th>1</th>\n",
              "      <td>37</td>\n",
              "      <td>1</td>\n",
              "      <td>2</td>\n",
              "      <td>130</td>\n",
              "      <td>250</td>\n",
              "      <td>0</td>\n",
              "      <td>1</td>\n",
              "      <td>187</td>\n",
              "      <td>0</td>\n",
              "      <td>3.5</td>\n",
              "      <td>0</td>\n",
              "      <td>0</td>\n",
              "      <td>2</td>\n",
              "      <td>1</td>\n",
              "    </tr>\n",
              "    <tr>\n",
              "      <th>2</th>\n",
              "      <td>41</td>\n",
              "      <td>0</td>\n",
              "      <td>1</td>\n",
              "      <td>130</td>\n",
              "      <td>204</td>\n",
              "      <td>0</td>\n",
              "      <td>0</td>\n",
              "      <td>172</td>\n",
              "      <td>0</td>\n",
              "      <td>1.4</td>\n",
              "      <td>2</td>\n",
              "      <td>0</td>\n",
              "      <td>2</td>\n",
              "      <td>1</td>\n",
              "    </tr>\n",
              "    <tr>\n",
              "      <th>3</th>\n",
              "      <td>56</td>\n",
              "      <td>1</td>\n",
              "      <td>1</td>\n",
              "      <td>120</td>\n",
              "      <td>236</td>\n",
              "      <td>0</td>\n",
              "      <td>1</td>\n",
              "      <td>178</td>\n",
              "      <td>0</td>\n",
              "      <td>0.8</td>\n",
              "      <td>2</td>\n",
              "      <td>0</td>\n",
              "      <td>2</td>\n",
              "      <td>1</td>\n",
              "    </tr>\n",
              "    <tr>\n",
              "      <th>4</th>\n",
              "      <td>57</td>\n",
              "      <td>0</td>\n",
              "      <td>0</td>\n",
              "      <td>120</td>\n",
              "      <td>354</td>\n",
              "      <td>0</td>\n",
              "      <td>1</td>\n",
              "      <td>163</td>\n",
              "      <td>1</td>\n",
              "      <td>0.6</td>\n",
              "      <td>2</td>\n",
              "      <td>0</td>\n",
              "      <td>2</td>\n",
              "      <td>1</td>\n",
              "    </tr>\n",
              "    <tr>\n",
              "      <th>5</th>\n",
              "      <td>57</td>\n",
              "      <td>1</td>\n",
              "      <td>0</td>\n",
              "      <td>140</td>\n",
              "      <td>192</td>\n",
              "      <td>0</td>\n",
              "      <td>1</td>\n",
              "      <td>148</td>\n",
              "      <td>0</td>\n",
              "      <td>0.4</td>\n",
              "      <td>1</td>\n",
              "      <td>0</td>\n",
              "      <td>1</td>\n",
              "      <td>1</td>\n",
              "    </tr>\n",
              "    <tr>\n",
              "      <th>6</th>\n",
              "      <td>56</td>\n",
              "      <td>0</td>\n",
              "      <td>1</td>\n",
              "      <td>140</td>\n",
              "      <td>294</td>\n",
              "      <td>0</td>\n",
              "      <td>0</td>\n",
              "      <td>153</td>\n",
              "      <td>0</td>\n",
              "      <td>1.3</td>\n",
              "      <td>1</td>\n",
              "      <td>0</td>\n",
              "      <td>2</td>\n",
              "      <td>1</td>\n",
              "    </tr>\n",
              "    <tr>\n",
              "      <th>7</th>\n",
              "      <td>44</td>\n",
              "      <td>1</td>\n",
              "      <td>1</td>\n",
              "      <td>120</td>\n",
              "      <td>263</td>\n",
              "      <td>0</td>\n",
              "      <td>1</td>\n",
              "      <td>173</td>\n",
              "      <td>0</td>\n",
              "      <td>0.0</td>\n",
              "      <td>2</td>\n",
              "      <td>0</td>\n",
              "      <td>3</td>\n",
              "      <td>1</td>\n",
              "    </tr>\n",
              "    <tr>\n",
              "      <th>8</th>\n",
              "      <td>52</td>\n",
              "      <td>1</td>\n",
              "      <td>2</td>\n",
              "      <td>172</td>\n",
              "      <td>199</td>\n",
              "      <td>1</td>\n",
              "      <td>1</td>\n",
              "      <td>162</td>\n",
              "      <td>0</td>\n",
              "      <td>0.5</td>\n",
              "      <td>2</td>\n",
              "      <td>0</td>\n",
              "      <td>3</td>\n",
              "      <td>1</td>\n",
              "    </tr>\n",
              "    <tr>\n",
              "      <th>9</th>\n",
              "      <td>57</td>\n",
              "      <td>1</td>\n",
              "      <td>2</td>\n",
              "      <td>150</td>\n",
              "      <td>168</td>\n",
              "      <td>0</td>\n",
              "      <td>1</td>\n",
              "      <td>174</td>\n",
              "      <td>0</td>\n",
              "      <td>1.6</td>\n",
              "      <td>2</td>\n",
              "      <td>0</td>\n",
              "      <td>2</td>\n",
              "      <td>1</td>\n",
              "    </tr>\n",
              "  </tbody>\n",
              "</table>\n",
              "</div>"
            ],
            "text/plain": [
              "   age  sex  cp  trestbps  chol  fbs  ...  exang  oldpeak  slope  ca  thal  target\n",
              "0   63    1   3       145   233    1  ...      0      2.3      0   0     1       1\n",
              "1   37    1   2       130   250    0  ...      0      3.5      0   0     2       1\n",
              "2   41    0   1       130   204    0  ...      0      1.4      2   0     2       1\n",
              "3   56    1   1       120   236    0  ...      0      0.8      2   0     2       1\n",
              "4   57    0   0       120   354    0  ...      1      0.6      2   0     2       1\n",
              "5   57    1   0       140   192    0  ...      0      0.4      1   0     1       1\n",
              "6   56    0   1       140   294    0  ...      0      1.3      1   0     2       1\n",
              "7   44    1   1       120   263    0  ...      0      0.0      2   0     3       1\n",
              "8   52    1   2       172   199    1  ...      0      0.5      2   0     3       1\n",
              "9   57    1   2       150   168    0  ...      0      1.6      2   0     2       1\n",
              "\n",
              "[10 rows x 14 columns]"
            ]
          },
          "metadata": {
            "tags": []
          },
          "execution_count": 3
        }
      ]
    },
    {
      "cell_type": "code",
      "metadata": {
        "colab": {
          "base_uri": "https://localhost:8080/",
          "height": 355
        },
        "id": "24-3c5KDyLg5",
        "outputId": "24bdc0cc-0297-4117-87e7-a8e8b7d14461"
      },
      "source": [
        "# Previewing the last 10 records of our dataset\n",
        "\n",
        "data.tail(10)"
      ],
      "execution_count": null,
      "outputs": [
        {
          "output_type": "execute_result",
          "data": {
            "text/html": [
              "<div>\n",
              "<style scoped>\n",
              "    .dataframe tbody tr th:only-of-type {\n",
              "        vertical-align: middle;\n",
              "    }\n",
              "\n",
              "    .dataframe tbody tr th {\n",
              "        vertical-align: top;\n",
              "    }\n",
              "\n",
              "    .dataframe thead th {\n",
              "        text-align: right;\n",
              "    }\n",
              "</style>\n",
              "<table border=\"1\" class=\"dataframe\">\n",
              "  <thead>\n",
              "    <tr style=\"text-align: right;\">\n",
              "      <th></th>\n",
              "      <th>age</th>\n",
              "      <th>sex</th>\n",
              "      <th>cp</th>\n",
              "      <th>trestbps</th>\n",
              "      <th>chol</th>\n",
              "      <th>fbs</th>\n",
              "      <th>restecg</th>\n",
              "      <th>thalach</th>\n",
              "      <th>exang</th>\n",
              "      <th>oldpeak</th>\n",
              "      <th>slope</th>\n",
              "      <th>ca</th>\n",
              "      <th>thal</th>\n",
              "      <th>target</th>\n",
              "    </tr>\n",
              "  </thead>\n",
              "  <tbody>\n",
              "    <tr>\n",
              "      <th>293</th>\n",
              "      <td>67</td>\n",
              "      <td>1</td>\n",
              "      <td>2</td>\n",
              "      <td>152</td>\n",
              "      <td>212</td>\n",
              "      <td>0</td>\n",
              "      <td>0</td>\n",
              "      <td>150</td>\n",
              "      <td>0</td>\n",
              "      <td>0.8</td>\n",
              "      <td>1</td>\n",
              "      <td>0</td>\n",
              "      <td>3</td>\n",
              "      <td>0</td>\n",
              "    </tr>\n",
              "    <tr>\n",
              "      <th>294</th>\n",
              "      <td>44</td>\n",
              "      <td>1</td>\n",
              "      <td>0</td>\n",
              "      <td>120</td>\n",
              "      <td>169</td>\n",
              "      <td>0</td>\n",
              "      <td>1</td>\n",
              "      <td>144</td>\n",
              "      <td>1</td>\n",
              "      <td>2.8</td>\n",
              "      <td>0</td>\n",
              "      <td>0</td>\n",
              "      <td>1</td>\n",
              "      <td>0</td>\n",
              "    </tr>\n",
              "    <tr>\n",
              "      <th>295</th>\n",
              "      <td>63</td>\n",
              "      <td>1</td>\n",
              "      <td>0</td>\n",
              "      <td>140</td>\n",
              "      <td>187</td>\n",
              "      <td>0</td>\n",
              "      <td>0</td>\n",
              "      <td>144</td>\n",
              "      <td>1</td>\n",
              "      <td>4.0</td>\n",
              "      <td>2</td>\n",
              "      <td>2</td>\n",
              "      <td>3</td>\n",
              "      <td>0</td>\n",
              "    </tr>\n",
              "    <tr>\n",
              "      <th>296</th>\n",
              "      <td>63</td>\n",
              "      <td>0</td>\n",
              "      <td>0</td>\n",
              "      <td>124</td>\n",
              "      <td>197</td>\n",
              "      <td>0</td>\n",
              "      <td>1</td>\n",
              "      <td>136</td>\n",
              "      <td>1</td>\n",
              "      <td>0.0</td>\n",
              "      <td>1</td>\n",
              "      <td>0</td>\n",
              "      <td>2</td>\n",
              "      <td>0</td>\n",
              "    </tr>\n",
              "    <tr>\n",
              "      <th>297</th>\n",
              "      <td>59</td>\n",
              "      <td>1</td>\n",
              "      <td>0</td>\n",
              "      <td>164</td>\n",
              "      <td>176</td>\n",
              "      <td>1</td>\n",
              "      <td>0</td>\n",
              "      <td>90</td>\n",
              "      <td>0</td>\n",
              "      <td>1.0</td>\n",
              "      <td>1</td>\n",
              "      <td>2</td>\n",
              "      <td>1</td>\n",
              "      <td>0</td>\n",
              "    </tr>\n",
              "    <tr>\n",
              "      <th>298</th>\n",
              "      <td>57</td>\n",
              "      <td>0</td>\n",
              "      <td>0</td>\n",
              "      <td>140</td>\n",
              "      <td>241</td>\n",
              "      <td>0</td>\n",
              "      <td>1</td>\n",
              "      <td>123</td>\n",
              "      <td>1</td>\n",
              "      <td>0.2</td>\n",
              "      <td>1</td>\n",
              "      <td>0</td>\n",
              "      <td>3</td>\n",
              "      <td>0</td>\n",
              "    </tr>\n",
              "    <tr>\n",
              "      <th>299</th>\n",
              "      <td>45</td>\n",
              "      <td>1</td>\n",
              "      <td>3</td>\n",
              "      <td>110</td>\n",
              "      <td>264</td>\n",
              "      <td>0</td>\n",
              "      <td>1</td>\n",
              "      <td>132</td>\n",
              "      <td>0</td>\n",
              "      <td>1.2</td>\n",
              "      <td>1</td>\n",
              "      <td>0</td>\n",
              "      <td>3</td>\n",
              "      <td>0</td>\n",
              "    </tr>\n",
              "    <tr>\n",
              "      <th>300</th>\n",
              "      <td>68</td>\n",
              "      <td>1</td>\n",
              "      <td>0</td>\n",
              "      <td>144</td>\n",
              "      <td>193</td>\n",
              "      <td>1</td>\n",
              "      <td>1</td>\n",
              "      <td>141</td>\n",
              "      <td>0</td>\n",
              "      <td>3.4</td>\n",
              "      <td>1</td>\n",
              "      <td>2</td>\n",
              "      <td>3</td>\n",
              "      <td>0</td>\n",
              "    </tr>\n",
              "    <tr>\n",
              "      <th>301</th>\n",
              "      <td>57</td>\n",
              "      <td>1</td>\n",
              "      <td>0</td>\n",
              "      <td>130</td>\n",
              "      <td>131</td>\n",
              "      <td>0</td>\n",
              "      <td>1</td>\n",
              "      <td>115</td>\n",
              "      <td>1</td>\n",
              "      <td>1.2</td>\n",
              "      <td>1</td>\n",
              "      <td>1</td>\n",
              "      <td>3</td>\n",
              "      <td>0</td>\n",
              "    </tr>\n",
              "    <tr>\n",
              "      <th>302</th>\n",
              "      <td>57</td>\n",
              "      <td>0</td>\n",
              "      <td>1</td>\n",
              "      <td>130</td>\n",
              "      <td>236</td>\n",
              "      <td>0</td>\n",
              "      <td>0</td>\n",
              "      <td>174</td>\n",
              "      <td>0</td>\n",
              "      <td>0.0</td>\n",
              "      <td>1</td>\n",
              "      <td>1</td>\n",
              "      <td>2</td>\n",
              "      <td>0</td>\n",
              "    </tr>\n",
              "  </tbody>\n",
              "</table>\n",
              "</div>"
            ],
            "text/plain": [
              "     age  sex  cp  trestbps  chol  fbs  ...  exang  oldpeak  slope  ca  thal  target\n",
              "293   67    1   2       152   212    0  ...      0      0.8      1   0     3       0\n",
              "294   44    1   0       120   169    0  ...      1      2.8      0   0     1       0\n",
              "295   63    1   0       140   187    0  ...      1      4.0      2   2     3       0\n",
              "296   63    0   0       124   197    0  ...      1      0.0      1   0     2       0\n",
              "297   59    1   0       164   176    1  ...      0      1.0      1   2     1       0\n",
              "298   57    0   0       140   241    0  ...      1      0.2      1   0     3       0\n",
              "299   45    1   3       110   264    0  ...      0      1.2      1   0     3       0\n",
              "300   68    1   0       144   193    1  ...      0      3.4      1   2     3       0\n",
              "301   57    1   0       130   131    0  ...      1      1.2      1   1     3       0\n",
              "302   57    0   1       130   236    0  ...      0      0.0      1   1     2       0\n",
              "\n",
              "[10 rows x 14 columns]"
            ]
          },
          "metadata": {
            "tags": []
          },
          "execution_count": 4
        }
      ]
    },
    {
      "cell_type": "code",
      "metadata": {
        "colab": {
          "base_uri": "https://localhost:8080/"
        },
        "id": "zVuP4F0Ay-9Z",
        "outputId": "357a6f76-b796-4368-e37c-82dc18b44afa"
      },
      "source": [
        "# getting information about our dataset\n",
        "data.info()"
      ],
      "execution_count": null,
      "outputs": [
        {
          "output_type": "stream",
          "text": [
            "<class 'pandas.core.frame.DataFrame'>\n",
            "RangeIndex: 303 entries, 0 to 302\n",
            "Data columns (total 14 columns):\n",
            " #   Column    Non-Null Count  Dtype  \n",
            "---  ------    --------------  -----  \n",
            " 0   age       303 non-null    int64  \n",
            " 1   sex       303 non-null    int64  \n",
            " 2   cp        303 non-null    int64  \n",
            " 3   trestbps  303 non-null    int64  \n",
            " 4   chol      303 non-null    int64  \n",
            " 5   fbs       303 non-null    int64  \n",
            " 6   restecg   303 non-null    int64  \n",
            " 7   thalach   303 non-null    int64  \n",
            " 8   exang     303 non-null    int64  \n",
            " 9   oldpeak   303 non-null    float64\n",
            " 10  slope     303 non-null    int64  \n",
            " 11  ca        303 non-null    int64  \n",
            " 12  thal      303 non-null    int64  \n",
            " 13  target    303 non-null    int64  \n",
            "dtypes: float64(1), int64(13)\n",
            "memory usage: 33.3 KB\n"
          ],
          "name": "stdout"
        }
      ]
    },
    {
      "cell_type": "code",
      "metadata": {
        "colab": {
          "base_uri": "https://localhost:8080/"
        },
        "id": "d5Nid7pgzFWt",
        "outputId": "c9244281-5fac-4b6d-cd9a-3aaf1e9a1f65"
      },
      "source": [
        "#getting shape of our dataset\n",
        "data.shape"
      ],
      "execution_count": null,
      "outputs": [
        {
          "output_type": "execute_result",
          "data": {
            "text/plain": [
              "(303, 14)"
            ]
          },
          "metadata": {
            "tags": []
          },
          "execution_count": 6
        }
      ]
    },
    {
      "cell_type": "code",
      "metadata": {
        "colab": {
          "base_uri": "https://localhost:8080/"
        },
        "id": "bjOsTNNIzPIe",
        "outputId": "26e0e6fa-d2ca-4b8b-a907-dec077ef5297"
      },
      "source": [
        "#viewing our columns\n",
        "data.columns"
      ],
      "execution_count": null,
      "outputs": [
        {
          "output_type": "execute_result",
          "data": {
            "text/plain": [
              "Index(['age', 'sex', 'cp', 'trestbps', 'chol', 'fbs', 'restecg', 'thalach',\n",
              "       'exang', 'oldpeak', 'slope', 'ca', 'thal', 'target'],\n",
              "      dtype='object')"
            ]
          },
          "metadata": {
            "tags": []
          },
          "execution_count": 7
        }
      ]
    },
    {
      "cell_type": "code",
      "metadata": {
        "colab": {
          "base_uri": "https://localhost:8080/"
        },
        "id": "4nY5p40EzVEu",
        "outputId": "fade7385-95f1-4ee2-fe3b-913731816778"
      },
      "source": [
        "#checking data types of our columns\n",
        "data.dtypes"
      ],
      "execution_count": null,
      "outputs": [
        {
          "output_type": "execute_result",
          "data": {
            "text/plain": [
              "age           int64\n",
              "sex           int64\n",
              "cp            int64\n",
              "trestbps      int64\n",
              "chol          int64\n",
              "fbs           int64\n",
              "restecg       int64\n",
              "thalach       int64\n",
              "exang         int64\n",
              "oldpeak     float64\n",
              "slope         int64\n",
              "ca            int64\n",
              "thal          int64\n",
              "target        int64\n",
              "dtype: object"
            ]
          },
          "metadata": {
            "tags": []
          },
          "execution_count": 8
        }
      ]
    },
    {
      "cell_type": "markdown",
      "metadata": {
        "id": "8A56watCHLlL"
      },
      "source": [
        "All columns seem to be in their right data types"
      ]
    },
    {
      "cell_type": "code",
      "metadata": {
        "colab": {
          "base_uri": "https://localhost:8080/"
        },
        "id": "y2OP01sczi-b",
        "outputId": "9ecddb71-d93b-48be-88a5-95d88ab7e8c1"
      },
      "source": [
        "data.columns"
      ],
      "execution_count": null,
      "outputs": [
        {
          "output_type": "execute_result",
          "data": {
            "text/plain": [
              "Index(['age', 'sex', 'cp', 'trestbps', 'chol', 'fbs', 'restecg', 'thalach',\n",
              "       'exang', 'oldpeak', 'slope', 'ca', 'thal', 'target'],\n",
              "      dtype='object')"
            ]
          },
          "metadata": {
            "tags": []
          },
          "execution_count": 9
        }
      ]
    },
    {
      "cell_type": "code",
      "metadata": {
        "colab": {
          "base_uri": "https://localhost:8080/"
        },
        "id": "et3eAIr6zg_T",
        "outputId": "a5088bb1-101c-4b71-c603-d5f55fd1de1b"
      },
      "source": [
        "##Checking for unique values\n",
        "\n",
        "cols = ['age', 'sex', 'cp', 'trestbps', 'chol', 'fbs', 'restecg', 'thalach',\n",
        "       'exang', 'oldpeak', 'slope', 'ca', 'thal', 'target']\n",
        "\n",
        "for col in cols:\n",
        "  print(col)\n",
        "  print(data[col].unique())\n",
        "  print('\\n')"
      ],
      "execution_count": null,
      "outputs": [
        {
          "output_type": "stream",
          "text": [
            "age\n",
            "[63 37 41 56 57 44 52 54 48 49 64 58 50 66 43 69 59 42 61 40 71 51 65 53\n",
            " 46 45 39 47 62 34 35 29 55 60 67 68 74 76 70 38 77]\n",
            "\n",
            "\n",
            "sex\n",
            "[1 0]\n",
            "\n",
            "\n",
            "cp\n",
            "[3 2 1 0]\n",
            "\n",
            "\n",
            "trestbps\n",
            "[145 130 120 140 172 150 110 135 160 105 125 142 155 104 138 128 108 134\n",
            " 122 115 118 100 124  94 112 102 152 101 132 148 178 129 180 136 126 106\n",
            " 156 170 146 117 200 165 174 192 144 123 154 114 164]\n",
            "\n",
            "\n",
            "chol\n",
            "[233 250 204 236 354 192 294 263 199 168 239 275 266 211 283 219 340 226\n",
            " 247 234 243 302 212 175 417 197 198 177 273 213 304 232 269 360 308 245\n",
            " 208 264 321 325 235 257 216 256 231 141 252 201 222 260 182 303 265 309\n",
            " 186 203 183 220 209 258 227 261 221 205 240 318 298 564 277 214 248 255\n",
            " 207 223 288 160 394 315 246 244 270 195 196 254 126 313 262 215 193 271\n",
            " 268 267 210 295 306 178 242 180 228 149 278 253 342 157 286 229 284 224\n",
            " 206 167 230 335 276 353 225 330 290 172 305 188 282 185 326 274 164 307\n",
            " 249 341 407 217 174 281 289 322 299 300 293 184 409 259 200 327 237 218\n",
            " 319 166 311 169 187 176 241 131]\n",
            "\n",
            "\n",
            "fbs\n",
            "[1 0]\n",
            "\n",
            "\n",
            "restecg\n",
            "[0 1 2]\n",
            "\n",
            "\n",
            "thalach\n",
            "[150 187 172 178 163 148 153 173 162 174 160 139 171 144 158 114 151 161\n",
            " 179 137 157 123 152 168 140 188 125 170 165 142 180 143 182 156 115 149\n",
            " 146 175 186 185 159 130 190 132 147 154 202 166 164 184 122 169 138 111\n",
            " 145 194 131 133 155 167 192 121  96 126 105 181 116 108 129 120 112 128\n",
            " 109 113  99 177 141 136  97 127 103 124  88 195 106  95 117  71 118 134\n",
            "  90]\n",
            "\n",
            "\n",
            "exang\n",
            "[0 1]\n",
            "\n",
            "\n",
            "oldpeak\n",
            "[2.3 3.5 1.4 0.8 0.6 0.4 1.3 0.  0.5 1.6 1.2 0.2 1.8 1.  2.6 1.5 3.  2.4\n",
            " 0.1 1.9 4.2 1.1 2.  0.7 0.3 0.9 3.6 3.1 3.2 2.5 2.2 2.8 3.4 6.2 4.  5.6\n",
            " 2.9 2.1 3.8 4.4]\n",
            "\n",
            "\n",
            "slope\n",
            "[0 2 1]\n",
            "\n",
            "\n",
            "ca\n",
            "[0 2 1 3 4]\n",
            "\n",
            "\n",
            "thal\n",
            "[1 2 3 0]\n",
            "\n",
            "\n",
            "target\n",
            "[1 0]\n",
            "\n",
            "\n"
          ],
          "name": "stdout"
        }
      ]
    },
    {
      "cell_type": "code",
      "metadata": {
        "colab": {
          "base_uri": "https://localhost:8080/"
        },
        "id": "66k8CZ4h7muY",
        "outputId": "7211804b-a819-4a42-f138-409541ea38a7"
      },
      "source": [
        "#defining our columns' unique values and column names\n",
        "info = [\"age\",\"1: male, 0: female\",\"chest pain type, 1: typical angina, 2: atypical angina, 3: non-anginal pain, 4: asymptomatic\",\"resting blood pressure\",\" serum cholestoral in mg/dl\",\"fasting blood sugar > 120 mg/dl\",\"resting electrocardiographic results (values 0,1,2)\",\" maximum heart rate achieved\",\"exercise induced angina\",\"oldpeak = ST depression induced by exercise relative to rest\",\"the slope of the peak exercise ST segment\",\"number of major vessels (0-3) colored by flourosopy\",\"thal: 3 = normal; 6 = fixed defect; 7 = reversable defect\"]\n",
        "\n",
        "\n",
        "\n",
        "for i in range(len(info)):\n",
        "    print(data.columns[i]+\":\\t\\t\\t\"+info[i])"
      ],
      "execution_count": null,
      "outputs": [
        {
          "output_type": "stream",
          "text": [
            "age:\t\t\tage\n",
            "sex:\t\t\t1: male, 0: female\n",
            "cp:\t\t\tchest pain type, 1: typical angina, 2: atypical angina, 3: non-anginal pain, 4: asymptomatic\n",
            "trestbps:\t\t\tresting blood pressure\n",
            "chol:\t\t\t serum cholestoral in mg/dl\n",
            "fbs:\t\t\tfasting blood sugar > 120 mg/dl\n",
            "restecg:\t\t\tresting electrocardiographic results (values 0,1,2)\n",
            "thalach:\t\t\t maximum heart rate achieved\n",
            "exang:\t\t\texercise induced angina\n",
            "oldpeak:\t\t\toldpeak = ST depression induced by exercise relative to rest\n",
            "slope:\t\t\tthe slope of the peak exercise ST segment\n",
            "ca:\t\t\tnumber of major vessels (0-3) colored by flourosopy\n",
            "thal:\t\t\tthal: 3 = normal; 6 = fixed defect; 7 = reversable defect\n"
          ],
          "name": "stdout"
        }
      ]
    },
    {
      "cell_type": "markdown",
      "metadata": {
        "id": "WY07tz4_z5Od"
      },
      "source": [
        "Our dataset has 303 records and  14 attributes including the target attribute labeled target. The \"target\" field refers to the presence of heart disease in the patient. It is integer valued from 0 (no presence) to 1."
      ]
    },
    {
      "cell_type": "markdown",
      "metadata": {
        "id": "mvgD9qyx0xtX"
      },
      "source": [
        "**Validation of data**"
      ]
    },
    {
      "cell_type": "markdown",
      "metadata": {
        "id": "0LjiBdmt00U9"
      },
      "source": [
        "#**Tidying the dataset**"
      ]
    },
    {
      "cell_type": "markdown",
      "metadata": {
        "id": "m3bneLnK0_AW"
      },
      "source": [
        "**Missing values**"
      ]
    },
    {
      "cell_type": "code",
      "metadata": {
        "colab": {
          "base_uri": "https://localhost:8080/"
        },
        "id": "A_KW6vm2z0sb",
        "outputId": "24ed0d6a-b1c7-4357-c389-8c5f38ab93da"
      },
      "source": [
        "#checking missing values\n",
        "data.isnull().sum().sort_values(ascending=False)\n",
        "\n",
        "#Our dataset has no missing values"
      ],
      "execution_count": null,
      "outputs": [
        {
          "output_type": "execute_result",
          "data": {
            "text/plain": [
              "target      0\n",
              "thal        0\n",
              "ca          0\n",
              "slope       0\n",
              "oldpeak     0\n",
              "exang       0\n",
              "thalach     0\n",
              "restecg     0\n",
              "fbs         0\n",
              "chol        0\n",
              "trestbps    0\n",
              "cp          0\n",
              "sex         0\n",
              "age         0\n",
              "dtype: int64"
            ]
          },
          "metadata": {
            "tags": []
          },
          "execution_count": 12
        }
      ]
    },
    {
      "cell_type": "markdown",
      "metadata": {
        "id": "uA_REnpV1eqV"
      },
      "source": [
        "**Checking for duplicates**"
      ]
    },
    {
      "cell_type": "code",
      "metadata": {
        "colab": {
          "base_uri": "https://localhost:8080/"
        },
        "id": "VLBKpJWJ1RrJ",
        "outputId": "de5a96fc-e1e6-4f9b-d93a-b6a7d434d904"
      },
      "source": [
        "#we will look for the number of rows with duplicate records in our dataset\n",
        "print(data.duplicated().sum())"
      ],
      "execution_count": null,
      "outputs": [
        {
          "output_type": "stream",
          "text": [
            "1\n"
          ],
          "name": "stdout"
        }
      ]
    },
    {
      "cell_type": "code",
      "metadata": {
        "colab": {
          "base_uri": "https://localhost:8080/"
        },
        "id": "5gDsisOi2CdE",
        "outputId": "5f11efd2-65aa-4936-f5b0-9bb3a03ea59a"
      },
      "source": [
        "#\n",
        "print(data[data.duplicated()].head())"
      ],
      "execution_count": null,
      "outputs": [
        {
          "output_type": "stream",
          "text": [
            "     age  sex  cp  trestbps  chol  fbs  ...  exang  oldpeak  slope  ca  thal  target\n",
            "164   38    1   2       138   175    0  ...      0      0.0      2   4     2       1\n",
            "\n",
            "[1 rows x 14 columns]\n"
          ],
          "name": "stdout"
        }
      ]
    },
    {
      "cell_type": "code",
      "metadata": {
        "id": "isTOs-aI2y85"
      },
      "source": [
        "#We will not be dropping the record"
      ],
      "execution_count": null,
      "outputs": []
    },
    {
      "cell_type": "markdown",
      "metadata": {
        "id": "NHxg_pGL26Ct"
      },
      "source": [
        "**Checking for outliers**"
      ]
    },
    {
      "cell_type": "code",
      "metadata": {
        "colab": {
          "base_uri": "https://localhost:8080/"
        },
        "id": "tFkAk2qH28iS",
        "outputId": "2707c121-4600-4d21-ea7f-a5110deba5dc"
      },
      "source": [
        "columns = data[['age', 'sex', 'cp', 'trestbps', 'chol', 'fbs', 'restecg', 'thalach',\n",
        "       'exang', 'oldpeak', 'slope', 'ca', 'thal', 'target']]\n",
        "Q1 = columns.quantile(0.25)\n",
        "Q3 = columns.quantile(0.75)\n",
        "IQR = Q3 - Q1\n",
        "((columns < (Q1 - 1.5 * IQR)) | (columns > (Q3 + 1.5 * IQR))).sum()"
      ],
      "execution_count": null,
      "outputs": [
        {
          "output_type": "execute_result",
          "data": {
            "text/plain": [
              "age          0\n",
              "sex          0\n",
              "cp           0\n",
              "trestbps     9\n",
              "chol         5\n",
              "fbs         45\n",
              "restecg      0\n",
              "thalach      1\n",
              "exang        0\n",
              "oldpeak      5\n",
              "slope        0\n",
              "ca          25\n",
              "thal         2\n",
              "target       0\n",
              "dtype: int64"
            ]
          },
          "metadata": {
            "tags": []
          },
          "execution_count": 16
        }
      ]
    },
    {
      "cell_type": "markdown",
      "metadata": {
        "id": "HZTVWfaz3XAl"
      },
      "source": [
        "We need to domain knowledge to discern whether to drop the records or not as they may be values that lie in the range of features related to heart disease detection. We will not drop the outliers yet."
      ]
    },
    {
      "cell_type": "markdown",
      "metadata": {
        "id": "7jVcbZ523qq9"
      },
      "source": [
        "#**Exploratory data Analysis**"
      ]
    },
    {
      "cell_type": "markdown",
      "metadata": {
        "id": "elk4apghN5hT"
      },
      "source": [
        "##Univariate Analysis"
      ]
    },
    {
      "cell_type": "markdown",
      "metadata": {
        "id": "6FbXdHOj4UZU"
      },
      "source": [
        "**Description**"
      ]
    },
    {
      "cell_type": "code",
      "metadata": {
        "colab": {
          "base_uri": "https://localhost:8080/",
          "height": 294
        },
        "id": "fRD1yCA64Cxs",
        "outputId": "ba754349-52ea-4621-8620-fcf524cecf89"
      },
      "source": [
        "#summary description of our dataset\n",
        "data.describe()"
      ],
      "execution_count": null,
      "outputs": [
        {
          "output_type": "execute_result",
          "data": {
            "text/html": [
              "<div>\n",
              "<style scoped>\n",
              "    .dataframe tbody tr th:only-of-type {\n",
              "        vertical-align: middle;\n",
              "    }\n",
              "\n",
              "    .dataframe tbody tr th {\n",
              "        vertical-align: top;\n",
              "    }\n",
              "\n",
              "    .dataframe thead th {\n",
              "        text-align: right;\n",
              "    }\n",
              "</style>\n",
              "<table border=\"1\" class=\"dataframe\">\n",
              "  <thead>\n",
              "    <tr style=\"text-align: right;\">\n",
              "      <th></th>\n",
              "      <th>age</th>\n",
              "      <th>sex</th>\n",
              "      <th>cp</th>\n",
              "      <th>trestbps</th>\n",
              "      <th>chol</th>\n",
              "      <th>fbs</th>\n",
              "      <th>restecg</th>\n",
              "      <th>thalach</th>\n",
              "      <th>exang</th>\n",
              "      <th>oldpeak</th>\n",
              "      <th>slope</th>\n",
              "      <th>ca</th>\n",
              "      <th>thal</th>\n",
              "      <th>target</th>\n",
              "    </tr>\n",
              "  </thead>\n",
              "  <tbody>\n",
              "    <tr>\n",
              "      <th>count</th>\n",
              "      <td>303.000000</td>\n",
              "      <td>303.000000</td>\n",
              "      <td>303.000000</td>\n",
              "      <td>303.000000</td>\n",
              "      <td>303.000000</td>\n",
              "      <td>303.000000</td>\n",
              "      <td>303.000000</td>\n",
              "      <td>303.000000</td>\n",
              "      <td>303.000000</td>\n",
              "      <td>303.000000</td>\n",
              "      <td>303.000000</td>\n",
              "      <td>303.000000</td>\n",
              "      <td>303.000000</td>\n",
              "      <td>303.000000</td>\n",
              "    </tr>\n",
              "    <tr>\n",
              "      <th>mean</th>\n",
              "      <td>54.366337</td>\n",
              "      <td>0.683168</td>\n",
              "      <td>0.966997</td>\n",
              "      <td>131.623762</td>\n",
              "      <td>246.264026</td>\n",
              "      <td>0.148515</td>\n",
              "      <td>0.528053</td>\n",
              "      <td>149.646865</td>\n",
              "      <td>0.326733</td>\n",
              "      <td>1.039604</td>\n",
              "      <td>1.399340</td>\n",
              "      <td>0.729373</td>\n",
              "      <td>2.313531</td>\n",
              "      <td>0.544554</td>\n",
              "    </tr>\n",
              "    <tr>\n",
              "      <th>std</th>\n",
              "      <td>9.082101</td>\n",
              "      <td>0.466011</td>\n",
              "      <td>1.032052</td>\n",
              "      <td>17.538143</td>\n",
              "      <td>51.830751</td>\n",
              "      <td>0.356198</td>\n",
              "      <td>0.525860</td>\n",
              "      <td>22.905161</td>\n",
              "      <td>0.469794</td>\n",
              "      <td>1.161075</td>\n",
              "      <td>0.616226</td>\n",
              "      <td>1.022606</td>\n",
              "      <td>0.612277</td>\n",
              "      <td>0.498835</td>\n",
              "    </tr>\n",
              "    <tr>\n",
              "      <th>min</th>\n",
              "      <td>29.000000</td>\n",
              "      <td>0.000000</td>\n",
              "      <td>0.000000</td>\n",
              "      <td>94.000000</td>\n",
              "      <td>126.000000</td>\n",
              "      <td>0.000000</td>\n",
              "      <td>0.000000</td>\n",
              "      <td>71.000000</td>\n",
              "      <td>0.000000</td>\n",
              "      <td>0.000000</td>\n",
              "      <td>0.000000</td>\n",
              "      <td>0.000000</td>\n",
              "      <td>0.000000</td>\n",
              "      <td>0.000000</td>\n",
              "    </tr>\n",
              "    <tr>\n",
              "      <th>25%</th>\n",
              "      <td>47.500000</td>\n",
              "      <td>0.000000</td>\n",
              "      <td>0.000000</td>\n",
              "      <td>120.000000</td>\n",
              "      <td>211.000000</td>\n",
              "      <td>0.000000</td>\n",
              "      <td>0.000000</td>\n",
              "      <td>133.500000</td>\n",
              "      <td>0.000000</td>\n",
              "      <td>0.000000</td>\n",
              "      <td>1.000000</td>\n",
              "      <td>0.000000</td>\n",
              "      <td>2.000000</td>\n",
              "      <td>0.000000</td>\n",
              "    </tr>\n",
              "    <tr>\n",
              "      <th>50%</th>\n",
              "      <td>55.000000</td>\n",
              "      <td>1.000000</td>\n",
              "      <td>1.000000</td>\n",
              "      <td>130.000000</td>\n",
              "      <td>240.000000</td>\n",
              "      <td>0.000000</td>\n",
              "      <td>1.000000</td>\n",
              "      <td>153.000000</td>\n",
              "      <td>0.000000</td>\n",
              "      <td>0.800000</td>\n",
              "      <td>1.000000</td>\n",
              "      <td>0.000000</td>\n",
              "      <td>2.000000</td>\n",
              "      <td>1.000000</td>\n",
              "    </tr>\n",
              "    <tr>\n",
              "      <th>75%</th>\n",
              "      <td>61.000000</td>\n",
              "      <td>1.000000</td>\n",
              "      <td>2.000000</td>\n",
              "      <td>140.000000</td>\n",
              "      <td>274.500000</td>\n",
              "      <td>0.000000</td>\n",
              "      <td>1.000000</td>\n",
              "      <td>166.000000</td>\n",
              "      <td>1.000000</td>\n",
              "      <td>1.600000</td>\n",
              "      <td>2.000000</td>\n",
              "      <td>1.000000</td>\n",
              "      <td>3.000000</td>\n",
              "      <td>1.000000</td>\n",
              "    </tr>\n",
              "    <tr>\n",
              "      <th>max</th>\n",
              "      <td>77.000000</td>\n",
              "      <td>1.000000</td>\n",
              "      <td>3.000000</td>\n",
              "      <td>200.000000</td>\n",
              "      <td>564.000000</td>\n",
              "      <td>1.000000</td>\n",
              "      <td>2.000000</td>\n",
              "      <td>202.000000</td>\n",
              "      <td>1.000000</td>\n",
              "      <td>6.200000</td>\n",
              "      <td>2.000000</td>\n",
              "      <td>4.000000</td>\n",
              "      <td>3.000000</td>\n",
              "      <td>1.000000</td>\n",
              "    </tr>\n",
              "  </tbody>\n",
              "</table>\n",
              "</div>"
            ],
            "text/plain": [
              "              age         sex          cp  ...          ca        thal      target\n",
              "count  303.000000  303.000000  303.000000  ...  303.000000  303.000000  303.000000\n",
              "mean    54.366337    0.683168    0.966997  ...    0.729373    2.313531    0.544554\n",
              "std      9.082101    0.466011    1.032052  ...    1.022606    0.612277    0.498835\n",
              "min     29.000000    0.000000    0.000000  ...    0.000000    0.000000    0.000000\n",
              "25%     47.500000    0.000000    0.000000  ...    0.000000    2.000000    0.000000\n",
              "50%     55.000000    1.000000    1.000000  ...    0.000000    2.000000    1.000000\n",
              "75%     61.000000    1.000000    2.000000  ...    1.000000    3.000000    1.000000\n",
              "max     77.000000    1.000000    3.000000  ...    4.000000    3.000000    1.000000\n",
              "\n",
              "[8 rows x 14 columns]"
            ]
          },
          "metadata": {
            "tags": []
          },
          "execution_count": 17
        }
      ]
    },
    {
      "cell_type": "markdown",
      "metadata": {
        "id": "jT4UJ3xO4gnu"
      },
      "source": [
        "**Measures of Central Tendancy**"
      ]
    },
    {
      "cell_type": "code",
      "metadata": {
        "colab": {
          "base_uri": "https://localhost:8080/"
        },
        "id": "rRIUujZ34SQt",
        "outputId": "7510738c-ab17-4901-8337-761dc9d52d36"
      },
      "source": [
        "#MEAN\n",
        "for i, col_val in enumerate(columns):\n",
        " print('The mean of ' + str(col_val) + ' ' + 'is' + ' ' + str(columns[col_val].mean()))"
      ],
      "execution_count": null,
      "outputs": [
        {
          "output_type": "stream",
          "text": [
            "The mean of age is 54.366336633663366\n",
            "The mean of sex is 0.6831683168316832\n",
            "The mean of cp is 0.966996699669967\n",
            "The mean of trestbps is 131.62376237623764\n",
            "The mean of chol is 246.26402640264027\n",
            "The mean of fbs is 0.1485148514851485\n",
            "The mean of restecg is 0.528052805280528\n",
            "The mean of thalach is 149.64686468646866\n",
            "The mean of exang is 0.32673267326732675\n",
            "The mean of oldpeak is 1.0396039603960396\n",
            "The mean of slope is 1.3993399339933994\n",
            "The mean of ca is 0.7293729372937293\n",
            "The mean of thal is 2.3135313531353137\n",
            "The mean of target is 0.5445544554455446\n"
          ],
          "name": "stdout"
        }
      ]
    },
    {
      "cell_type": "code",
      "metadata": {
        "colab": {
          "base_uri": "https://localhost:8080/"
        },
        "id": "RrF8Qxdk5EN8",
        "outputId": "0b478e99-1ecd-4276-cf21-764030c30500"
      },
      "source": [
        "#Mode\n",
        "for i, col_val in enumerate(columns):\n",
        " print('The mode of ' + str(col_val) + ' ' + 'is' + ' ' + str(columns[col_val].mode()))"
      ],
      "execution_count": null,
      "outputs": [
        {
          "output_type": "stream",
          "text": [
            "The mode of age is 0    58\n",
            "dtype: int64\n",
            "The mode of sex is 0    1\n",
            "dtype: int64\n",
            "The mode of cp is 0    0\n",
            "dtype: int64\n",
            "The mode of trestbps is 0    120\n",
            "dtype: int64\n",
            "The mode of chol is 0    197\n",
            "1    204\n",
            "2    234\n",
            "dtype: int64\n",
            "The mode of fbs is 0    0\n",
            "dtype: int64\n",
            "The mode of restecg is 0    1\n",
            "dtype: int64\n",
            "The mode of thalach is 0    162\n",
            "dtype: int64\n",
            "The mode of exang is 0    0\n",
            "dtype: int64\n",
            "The mode of oldpeak is 0    0.0\n",
            "dtype: float64\n",
            "The mode of slope is 0    2\n",
            "dtype: int64\n",
            "The mode of ca is 0    0\n",
            "dtype: int64\n",
            "The mode of thal is 0    2\n",
            "dtype: int64\n",
            "The mode of target is 0    1\n",
            "dtype: int64\n"
          ],
          "name": "stdout"
        }
      ]
    },
    {
      "cell_type": "markdown",
      "metadata": {
        "id": "R7TOdSoDJdv4"
      },
      "source": [
        "We note that the chol colum(serum cholestrol) is trimodal with 197, 204 and 234 being the common levels whereas all the rest of the columns are unimodal. Also the mode of age(58) is roughly around the mean of the age(54.6). The mode of our target column being 1 meaning most people showed presence of heart disease."
      ]
    },
    {
      "cell_type": "code",
      "metadata": {
        "colab": {
          "base_uri": "https://localhost:8080/"
        },
        "id": "1bjhvMFk5NPP",
        "outputId": "9f804468-4178-4556-8cc1-00c7befc6faa"
      },
      "source": [
        "#MEDIAN\n",
        "\n",
        "for i, col_val in enumerate(columns):\n",
        " print('The median of ' + str(col_val) + ' ' + 'is' + ' ' + str(columns[col_val].median()))"
      ],
      "execution_count": null,
      "outputs": [
        {
          "output_type": "stream",
          "text": [
            "The median of age is 55.0\n",
            "The median of sex is 1.0\n",
            "The median of cp is 1.0\n",
            "The median of trestbps is 130.0\n",
            "The median of chol is 240.0\n",
            "The median of fbs is 0.0\n",
            "The median of restecg is 1.0\n",
            "The median of thalach is 153.0\n",
            "The median of exang is 0.0\n",
            "The median of oldpeak is 0.8\n",
            "The median of slope is 1.0\n",
            "The median of ca is 0.0\n",
            "The median of thal is 2.0\n",
            "The median of target is 1.0\n"
          ],
          "name": "stdout"
        }
      ]
    },
    {
      "cell_type": "markdown",
      "metadata": {
        "id": "Ro3MGhV35VNu"
      },
      "source": [
        "**Measures of dispersion**"
      ]
    },
    {
      "cell_type": "code",
      "metadata": {
        "colab": {
          "base_uri": "https://localhost:8080/"
        },
        "id": "ARNgXCR-5Ycb",
        "outputId": "4820d1a3-3abe-4042-b651-0d90fcd057a7"
      },
      "source": [
        "#SKEWNESS\n",
        "\n",
        "for i, col_val in enumerate(columns):\n",
        " print('The Skewness of ' + str(col_val) + ' ' + 'is' + ' ' + str(columns[col_val].skew()))"
      ],
      "execution_count": null,
      "outputs": [
        {
          "output_type": "stream",
          "text": [
            "The Skewness of age is -0.2024633654856539\n",
            "The Skewness of sex is -0.791335191480832\n",
            "The Skewness of cp is 0.48473236883889675\n",
            "The Skewness of trestbps is 0.7137684379181465\n",
            "The Skewness of chol is 1.1434008206693387\n",
            "The Skewness of fbs is 1.986651930914452\n",
            "The Skewness of restecg is 0.16252224492761935\n",
            "The Skewness of thalach is -0.5374096526832253\n",
            "The Skewness of exang is 0.7425315444212832\n",
            "The Skewness of oldpeak is 1.269719930601997\n",
            "The Skewness of slope is -0.5083156098165442\n",
            "The Skewness of ca is 1.3104221354767875\n",
            "The Skewness of thal is -0.47672219490975737\n",
            "The Skewness of target is -0.17982105403495655\n"
          ],
          "name": "stdout"
        }
      ]
    },
    {
      "cell_type": "code",
      "metadata": {
        "colab": {
          "base_uri": "https://localhost:8080/"
        },
        "id": "siP8Y8qG5x46",
        "outputId": "45222900-b042-43ec-d5c6-b90e40b63ee1"
      },
      "source": [
        "#Kurtosis\n",
        "\n",
        "for i, col_val in enumerate(columns):\n",
        " print('The kurtosis of ' + str(col_val) + ' ' + 'is' + ' ' + str(columns[col_val].kurt()))"
      ],
      "execution_count": null,
      "outputs": [
        {
          "output_type": "stream",
          "text": [
            "The kurtosis of age is -0.5421671409908408\n",
            "The kurtosis of sex is -1.3829609835171006\n",
            "The kurtosis of cp is -1.1930709803257231\n",
            "The kurtosis of trestbps is 0.9290540528369715\n",
            "The kurtosis of chol is 4.505423167753712\n",
            "The kurtosis of fbs is 1.9596776292633504\n",
            "The kurtosis of restecg is -1.3626733034314487\n",
            "The kurtosis of thalach is -0.06196993057611566\n",
            "The kurtosis of exang is -1.4583166825574485\n",
            "The kurtosis of oldpeak is 1.5758130733382507\n",
            "The kurtosis of slope is -0.6275207472668787\n",
            "The kurtosis of ca is 0.8392531871665225\n",
            "The kurtosis of thal is 0.2979148532922311\n",
            "The kurtosis of target is -1.9807828625705264\n"
          ],
          "name": "stdout"
        }
      ]
    },
    {
      "cell_type": "markdown",
      "metadata": {
        "id": "4Sy5vNqOKiVb"
      },
      "source": [
        "\n",
        "\n",
        "1.   Most of our features have a  positively skewed distribution in which most values are clustered around the left tail of the distribution while the right tail of the distribution is longer.\n",
        "2.   Our SibSp and Parch and Fare have a leptokurtic distribution which shows heavy tails on either side, indicating large outliers.\n",
        "\n"
      ]
    },
    {
      "cell_type": "code",
      "metadata": {
        "colab": {
          "base_uri": "https://localhost:8080/"
        },
        "id": "XQ1k1e5r6F5-",
        "outputId": "f8244663-9802-49d8-d35c-80608d18c97a"
      },
      "source": [
        "##RANGE\n",
        "\n",
        "x = {}\n",
        "\n",
        "for col in columns:\n",
        "    x[col] = data[col].max()- data[col].min()\n",
        "range_= pd.Series(x)\n",
        "range_"
      ],
      "execution_count": null,
      "outputs": [
        {
          "output_type": "execute_result",
          "data": {
            "text/plain": [
              "age          48.0\n",
              "sex           1.0\n",
              "cp            3.0\n",
              "trestbps    106.0\n",
              "chol        438.0\n",
              "fbs           1.0\n",
              "restecg       2.0\n",
              "thalach     131.0\n",
              "exang         1.0\n",
              "oldpeak       6.2\n",
              "slope         2.0\n",
              "ca            4.0\n",
              "thal          3.0\n",
              "target        1.0\n",
              "dtype: float64"
            ]
          },
          "metadata": {
            "tags": []
          },
          "execution_count": 23
        }
      ]
    },
    {
      "cell_type": "code",
      "metadata": {
        "colab": {
          "base_uri": "https://localhost:8080/"
        },
        "id": "7hgxqjhN6NQ3",
        "outputId": "c8d37cb5-b3a3-4eea-84f4-a74c7c0bf058"
      },
      "source": [
        "##Standard Deviation\n",
        "\n",
        "x = {}\n",
        "\n",
        "for col in columns:\n",
        "    x[col] = data[col].std()\n",
        "standard_dev_= pd.Series(x)\n",
        "standard_dev_"
      ],
      "execution_count": null,
      "outputs": [
        {
          "output_type": "execute_result",
          "data": {
            "text/plain": [
              "age          9.082101\n",
              "sex          0.466011\n",
              "cp           1.032052\n",
              "trestbps    17.538143\n",
              "chol        51.830751\n",
              "fbs          0.356198\n",
              "restecg      0.525860\n",
              "thalach     22.905161\n",
              "exang        0.469794\n",
              "oldpeak      1.161075\n",
              "slope        0.616226\n",
              "ca           1.022606\n",
              "thal         0.612277\n",
              "target       0.498835\n",
              "dtype: float64"
            ]
          },
          "metadata": {
            "tags": []
          },
          "execution_count": 24
        }
      ]
    },
    {
      "cell_type": "markdown",
      "metadata": {
        "id": "DnDFfgRW6l56"
      },
      "source": [
        "**Univariate analysis visualization**"
      ]
    },
    {
      "cell_type": "code",
      "metadata": {
        "colab": {
          "base_uri": "https://localhost:8080/"
        },
        "id": "G90vk5XQ6pUu",
        "outputId": "1fb64513-8ead-4722-9ba8-3a8a71c70ccd"
      },
      "source": [
        "#Frequency table of our target variable\n",
        "data.target.value_counts(normalize=True)"
      ],
      "execution_count": null,
      "outputs": [
        {
          "output_type": "execute_result",
          "data": {
            "text/plain": [
              "1    0.544554\n",
              "0    0.455446\n",
              "Name: target, dtype: float64"
            ]
          },
          "metadata": {
            "tags": []
          },
          "execution_count": 25
        }
      ]
    },
    {
      "cell_type": "markdown",
      "metadata": {
        "id": "CT4KimvBLBIJ"
      },
      "source": [
        "45.54% of the target population do not have heart problems.\n",
        "\n",
        "54.45% of the target population has heart problems."
      ]
    },
    {
      "cell_type": "code",
      "metadata": {
        "colab": {
          "base_uri": "https://localhost:8080/",
          "height": 296
        },
        "id": "MwZ0Henp8je4",
        "outputId": "8289c03e-590d-4fcb-a71b-3de231f0e8ba"
      },
      "source": [
        "#Visualizing our target variable\n",
        "y = data[\"target\"]\n",
        "\n",
        "sns.countplot(y)\n"
      ],
      "execution_count": null,
      "outputs": [
        {
          "output_type": "execute_result",
          "data": {
            "text/plain": [
              "<matplotlib.axes._subplots.AxesSubplot at 0x7f9665ebb050>"
            ]
          },
          "metadata": {
            "tags": []
          },
          "execution_count": 26
        },
        {
          "output_type": "display_data",
          "data": {
            "image/png": "[encoded data removed]",
            "text/plain": [
              "<Figure size 432x288 with 1 Axes>"
            ]
          },
          "metadata": {
            "tags": [],
            "needs_background": "light"
          }
        }
      ]
    },
    {
      "cell_type": "markdown",
      "metadata": {
        "id": "55dHgB5C8Eij"
      },
      "source": [
        "Our target variable has a binary output of 0 and 1 confirming that this is a classification problem."
      ]
    },
    {
      "cell_type": "code",
      "metadata": {
        "colab": {
          "base_uri": "https://localhost:8080/",
          "height": 971
        },
        "id": "1w_XX1-a7Ae9",
        "outputId": "0cc4028b-f646-42fd-e8f4-9b2b6698bea0"
      },
      "source": [
        "#plotting histograms to get the distribution of the data\n",
        "data.hist(bins=10, figsize=(15,15))\n",
        "plt.suptitle(\"Numerical distributions\")\n",
        "plt.savefig('Histogram')\n",
        "plt.show()"
      ],
      "execution_count": null,
      "outputs": [
        {
          "output_type": "display_data",
          "data": {
            "image/png": "[encoded data removed]",
            "text/plain": [
              "<Figure size 1080x1080 with 16 Axes>"
            ]
          },
          "metadata": {
            "tags": [],
            "needs_background": "light"
          }
        }
      ]
    },
    {
      "cell_type": "code",
      "metadata": {
        "id": "N0cu78r_AVEP",
        "colab": {
          "base_uri": "https://localhost:8080/",
          "height": 984
        },
        "outputId": "4aea5bb8-e5d8-4071-effd-03afe3ccda07"
      },
      "source": [
        "#plotting distribution plots of our columns\n",
        "fig, axes = plt.subplots(nrows=2, ncols=7, figsize = (15,15))\n",
        "fig.subplots_adjust(hspace=0.2)\n",
        "fig.suptitle('Distributions of vrious features')\n",
        "\n",
        "for ax, values, name in zip(axes.flatten(), data.values.T, data.columns):\n",
        "    sns.distplot(values, ax=ax, bins=len(np.unique(data.values.T[1]))//2)\n",
        "    ax.set(title=\"{}\".format(name), xlabel=name)"
      ],
      "execution_count": null,
      "outputs": [
        {
          "output_type": "display_data",
          "data": {
            "image/png": "[encoded data removed]",
            "text/plain": [
              "<Figure size 1080x1080 with 14 Axes>"
            ]
          },
          "metadata": {
            "tags": [],
            "needs_background": "light"
          }
        }
      ]
    },
    {
      "cell_type": "markdown",
      "metadata": {
        "id": "oQhfP5KxNouz"
      },
      "source": [
        "From our histograms and dist plots it is clear that our dataset is not normally distributed."
      ]
    },
    {
      "cell_type": "markdown",
      "metadata": {
        "id": "5lAQtmoAAYtD"
      },
      "source": [
        "##**Bivariate Analysis**"
      ]
    },
    {
      "cell_type": "markdown",
      "metadata": {
        "id": "VVvhx3tyAhhB"
      },
      "source": [
        "Exploring the relationship between our y variable and the different features in our dataset"
      ]
    },
    {
      "cell_type": "markdown",
      "metadata": {
        "id": "WXVH0x0NA56v"
      },
      "source": [
        "*'Sex' Feature*"
      ]
    },
    {
      "cell_type": "code",
      "metadata": {
        "colab": {
          "base_uri": "https://localhost:8080/",
          "height": 302
        },
        "id": "FMsdvYrWAcRA",
        "outputId": "62999fb4-494a-4265-da3f-62849fcee273"
      },
      "source": [
        "#Sex/Target visualizations\n",
        "sns.set(style = 'whitegrid', context = 'notebook')\n",
        "sns.barplot(x='sex', y='target', data=data)"
      ],
      "execution_count": null,
      "outputs": [
        {
          "output_type": "execute_result",
          "data": {
            "text/plain": [
              "<matplotlib.axes._subplots.AxesSubplot at 0x7f9662cf7c90>"
            ]
          },
          "metadata": {
            "tags": []
          },
          "execution_count": 29
        },
        {
          "output_type": "display_data",
          "data": {
            "image/png": "[encoded data removed]",
            "text/plain": [
              "<Figure size 432x288 with 1 Axes>"
            ]
          },
          "metadata": {
            "tags": []
          }
        }
      ]
    },
    {
      "cell_type": "markdown",
      "metadata": {
        "id": "Q1LKsvcUBi6T"
      },
      "source": [
        "Females are more likely to have heart problems compared to males"
      ]
    },
    {
      "cell_type": "markdown",
      "metadata": {
        "id": "6Vzs9wfmaNK0"
      },
      "source": [
        "*CP (Chest Pains)*"
      ]
    },
    {
      "cell_type": "code",
      "metadata": {
        "colab": {
          "base_uri": "https://localhost:8080/",
          "height": 302
        },
        "id": "qHNR9iD7CJbq",
        "outputId": "9d7313b3-330d-4968-a31f-37195be0519e"
      },
      "source": [
        "##'cp'/chest pains / y\n",
        "\n",
        "sns.set(style = 'whitegrid', context = 'notebook')\n",
        "sns.barplot(x='cp', y='target', data=data)"
      ],
      "execution_count": null,
      "outputs": [
        {
          "output_type": "execute_result",
          "data": {
            "text/plain": [
              "<matplotlib.axes._subplots.AxesSubplot at 0x7f966545d1d0>"
            ]
          },
          "metadata": {
            "tags": []
          },
          "execution_count": 30
        },
        {
          "output_type": "display_data",
          "data": {
            "image/png": "[encoded data removed]",
            "text/plain": [
              "<Figure size 432x288 with 1 Axes>"
            ]
          },
          "metadata": {
            "tags": []
          }
        }
      ]
    },
    {
      "cell_type": "markdown",
      "metadata": {
        "id": "96cj7-zXC9kL"
      },
      "source": [
        "Those with atypical angina are more likely to have heart problems compared to those with normal angina"
      ]
    },
    {
      "cell_type": "markdown",
      "metadata": {
        "id": "ni_p9yJ6aawL"
      },
      "source": [
        "*fbs (fasting blood sugar)*"
      ]
    },
    {
      "cell_type": "code",
      "metadata": {
        "colab": {
          "base_uri": "https://localhost:8080/",
          "height": 302
        },
        "id": "030LT6e6ePpm",
        "outputId": "a62a4274-72cb-4e73-afda-45a5a264c2fa"
      },
      "source": [
        "sns.set(style = 'whitegrid', context = 'notebook')\n",
        "sns.barplot(x='fbs', y='target', data=data)"
      ],
      "execution_count": null,
      "outputs": [
        {
          "output_type": "execute_result",
          "data": {
            "text/plain": [
              "<matplotlib.axes._subplots.AxesSubplot at 0x7f966520c550>"
            ]
          },
          "metadata": {
            "tags": []
          },
          "execution_count": 31
        },
        {
          "output_type": "display_data",
          "data": {
            "image/png": "[encoded data removed]",
            "text/plain": [
              "<Figure size 432x288 with 1 Axes>"
            ]
          },
          "metadata": {
            "tags": []
          }
        }
      ]
    },
    {
      "cell_type": "markdown",
      "metadata": {
        "id": "6TZnS3b4eh5Z"
      },
      "source": [
        "*restecg (resting electrocardiographic results)*"
      ]
    },
    {
      "cell_type": "code",
      "metadata": {
        "colab": {
          "base_uri": "https://localhost:8080/",
          "height": 302
        },
        "id": "iid7faI7ezwq",
        "outputId": "380703ca-6fa5-4b99-a38f-2d337a909735"
      },
      "source": [
        "sns.set(style = 'whitegrid', context = 'notebook')\n",
        "sns.barplot(x='restecg', y='target', data=data)"
      ],
      "execution_count": null,
      "outputs": [
        {
          "output_type": "execute_result",
          "data": {
            "text/plain": [
              "<matplotlib.axes._subplots.AxesSubplot at 0x7f96651f3850>"
            ]
          },
          "metadata": {
            "tags": []
          },
          "execution_count": 32
        },
        {
          "output_type": "display_data",
          "data": {
            "image/png": "[encoded data removed]",
            "text/plain": [
              "<Figure size 432x288 with 1 Axes>"
            ]
          },
          "metadata": {
            "tags": []
          }
        }
      ]
    },
    {
      "cell_type": "markdown",
      "metadata": {
        "id": "jlbZXGAzfHSw"
      },
      "source": [
        "*exang (exercise induced angina)*"
      ]
    },
    {
      "cell_type": "code",
      "metadata": {
        "colab": {
          "base_uri": "https://localhost:8080/",
          "height": 302
        },
        "id": "J9KV-zEzfALs",
        "outputId": "1f389037-c62e-4fa5-8638-86a94dfb9376"
      },
      "source": [
        "sns.set(style = 'whitegrid', context = 'notebook')\n",
        "sns.barplot(x='exang', y='target', data=data)"
      ],
      "execution_count": null,
      "outputs": [
        {
          "output_type": "execute_result",
          "data": {
            "text/plain": [
              "<matplotlib.axes._subplots.AxesSubplot at 0x7f96654b9290>"
            ]
          },
          "metadata": {
            "tags": []
          },
          "execution_count": 33
        },
        {
          "output_type": "display_data",
          "data": {
            "image/png": "[encoded data removed]",
            "text/plain": [
              "<Figure size 432x288 with 1 Axes>"
            ]
          },
          "metadata": {
            "tags": []
          }
        }
      ]
    },
    {
      "cell_type": "markdown",
      "metadata": {
        "id": "HAFWT0_ufbFN"
      },
      "source": [
        "*slope (slope of peak exercise st segment)*"
      ]
    },
    {
      "cell_type": "code",
      "metadata": {
        "colab": {
          "base_uri": "https://localhost:8080/",
          "height": 302
        },
        "id": "Gq9vXImoft1q",
        "outputId": "d4d79c5a-f1b7-4175-bb3c-dd8548ba0ee8"
      },
      "source": [
        "sns.set(style = 'whitegrid', context = 'notebook')\n",
        "sns.barplot(x='slope', y='target', data=data)"
      ],
      "execution_count": null,
      "outputs": [
        {
          "output_type": "execute_result",
          "data": {
            "text/plain": [
              "<matplotlib.axes._subplots.AxesSubplot at 0x7f96654036d0>"
            ]
          },
          "metadata": {
            "tags": []
          },
          "execution_count": 34
        },
        {
          "output_type": "display_data",
          "data": {
            "image/png": "[encoded data removed]",
            "text/plain": [
              "<Figure size 432x288 with 1 Axes>"
            ]
          },
          "metadata": {
            "tags": []
          }
        }
      ]
    },
    {
      "cell_type": "markdown",
      "metadata": {
        "id": "PWSnfTysf6q0"
      },
      "source": [
        "thal (displays the thalassemia)"
      ]
    },
    {
      "cell_type": "code",
      "metadata": {
        "colab": {
          "base_uri": "https://localhost:8080/",
          "height": 302
        },
        "id": "niJkrep3gFmj",
        "outputId": "e1f08818-d90e-4957-f729-7add3cf14688"
      },
      "source": [
        "sns.set(style = 'whitegrid', context = 'notebook')\n",
        "sns.barplot(x='thal', y='target', data=data)"
      ],
      "execution_count": null,
      "outputs": [
        {
          "output_type": "execute_result",
          "data": {
            "text/plain": [
              "<matplotlib.axes._subplots.AxesSubplot at 0x7f9665964b50>"
            ]
          },
          "metadata": {
            "tags": []
          },
          "execution_count": 35
        },
        {
          "output_type": "display_data",
          "data": {
            "image/png": "[encoded data removed]",
            "text/plain": [
              "<Figure size 432x288 with 1 Axes>"
            ]
          },
          "metadata": {
            "tags": []
          }
        }
      ]
    },
    {
      "cell_type": "markdown",
      "metadata": {
        "id": "oYsUjXJtSfaw"
      },
      "source": [
        "Heart disease per age"
      ]
    },
    {
      "cell_type": "code",
      "metadata": {
        "colab": {
          "base_uri": "https://localhost:8080/",
          "height": 414
        },
        "id": "tcDHsUrMSjJS",
        "outputId": "dedb6734-6872-4de9-d22c-ecde100bbba1"
      },
      "source": [
        "pd.crosstab(data.age,data.target).plot(kind=\"bar\",figsize=(20,6))\n",
        "plt.title('Heart Disease Frequency for Ages')\n",
        "plt.xlabel('Age')\n",
        "plt.ylabel('Frequency')\n",
        "plt.show()"
      ],
      "execution_count": null,
      "outputs": [
        {
          "output_type": "display_data",
          "data": {
            "image/png": "[encoded data removed]",
            "text/plain": [
              "<Figure size 1440x432 with 1 Axes>"
            ]
          },
          "metadata": {
            "tags": []
          }
        }
      ]
    },
    {
      "cell_type": "markdown",
      "metadata": {
        "id": "Fbd2sza8XQ9y"
      },
      "source": [
        "*Distribution of age vs sex with the target class*"
      ]
    },
    {
      "cell_type": "code",
      "metadata": {
        "colab": {
          "base_uri": "https://localhost:8080/",
          "height": 397
        },
        "id": "n4zvYVtYXKi2",
        "outputId": "346b1039-17d0-4275-952e-64247c263c06"
      },
      "source": [
        "# barplot of age vs sex with hue = target\n",
        "sns.catplot(kind = 'bar', data = data, y = 'age', x = 'sex', hue = 'target')\n",
        "plt.title('Distribution of age vs sex with the target class')\n",
        "plt.show()"
      ],
      "execution_count": null,
      "outputs": [
        {
          "output_type": "display_data",
          "data": {
            "image/png": "[encoded data removed]",
            "text/plain": [
              "<Figure size 406.6x360 with 1 Axes>"
            ]
          },
          "metadata": {
            "tags": []
          }
        }
      ]
    },
    {
      "cell_type": "markdown",
      "metadata": {
        "id": "DUNpRXjKeNAn"
      },
      "source": [
        "We see that for females who are suffering from the disease are older than males."
      ]
    },
    {
      "cell_type": "markdown",
      "metadata": {
        "id": "E11fMZpVXiXk"
      },
      "source": [
        "**Correlation**"
      ]
    },
    {
      "cell_type": "code",
      "metadata": {
        "colab": {
          "base_uri": "https://localhost:8080/",
          "height": 615
        },
        "id": "BLUanhI5Xlm4",
        "outputId": "45d5bf2d-576c-4882-de1f-abff3a3b7832"
      },
      "source": [
        "# Ploting a correlation heatmat using seaborn \n",
        "\n",
        "colormap = plt.cm.Blues\n",
        "plt.figure(figsize=(14,10))\n",
        "sns.heatmap(data.corr(), cmap=colormap, annot=True, linewidths=0.2)"
      ],
      "execution_count": null,
      "outputs": [
        {
          "output_type": "execute_result",
          "data": {
            "text/plain": [
              "<matplotlib.axes._subplots.AxesSubplot at 0x7f9665795350>"
            ]
          },
          "metadata": {
            "tags": []
          },
          "execution_count": 38
        },
        {
          "output_type": "display_data",
          "data": {
            "image/png": "[encoded data removed]",
            "text/plain": [
              "<Figure size 1008x720 with 2 Axes>"
            ]
          },
          "metadata": {
            "tags": []
          }
        }
      ]
    },
    {
      "cell_type": "code",
      "metadata": {
        "colab": {
          "base_uri": "https://localhost:8080/"
        },
        "id": "zYzQaUwsYSam",
        "outputId": "a229efe2-ec8e-4a14-a4c6-ed005fc6c8f3"
      },
      "source": [
        "corr= data.corr()\n",
        "\n",
        "corr_list= corr['target'].sort_values(axis=0,ascending=False)\n",
        "corr_list"
      ],
      "execution_count": null,
      "outputs": [
        {
          "output_type": "execute_result",
          "data": {
            "text/plain": [
              "target      1.000000\n",
              "cp          0.433798\n",
              "thalach     0.421741\n",
              "slope       0.345877\n",
              "restecg     0.137230\n",
              "fbs        -0.028046\n",
              "chol       -0.085239\n",
              "trestbps   -0.144931\n",
              "age        -0.225439\n",
              "sex        -0.280937\n",
              "thal       -0.344029\n",
              "ca         -0.391724\n",
              "oldpeak    -0.430696\n",
              "exang      -0.436757\n",
              "Name: target, dtype: float64"
            ]
          },
          "metadata": {
            "tags": []
          },
          "execution_count": 39
        }
      ]
    },
    {
      "cell_type": "markdown",
      "metadata": {
        "id": "f-dh2Lf5RH0A"
      },
      "source": [
        "Our features are moderatly correlated with our target feature"
      ]
    },
    {
      "cell_type": "markdown",
      "metadata": {
        "id": "TE2w5VCfZqrX"
      },
      "source": [
        "#**Implementing the Solution**"
      ]
    },
    {
      "cell_type": "code",
      "metadata": {
        "id": "PAdeCZXWZ-X0"
      },
      "source": [
        "##Declaring our X and Y variables\n",
        "\n",
        "X = data.drop('target', axis=1)\n",
        "y = data.target\n"
      ],
      "execution_count": null,
      "outputs": []
    },
    {
      "cell_type": "code",
      "metadata": {
        "id": "-CvIiXOqaUX-"
      },
      "source": [
        "# Train Test Split \n",
        "from sklearn.model_selection import train_test_split\n",
        "X_train, X_test, y_train, y_test = train_test_split(X, y, test_size=.20, random_state=10)"
      ],
      "execution_count": null,
      "outputs": []
    },
    {
      "cell_type": "code",
      "metadata": {
        "id": "JboIcv9uaXog"
      },
      "source": [
        "# Feature Scaling\n",
        "#One of the most important operations that we must perform before we give the complete dataset to the machine learning model would be either to scale \n",
        "#the features or normalize them so that we would not run into errors in the process.\n",
        "#Multi-Layer Perceptron class is very sensitve to feature scaling, thus it is always a good habit to sclae our data.\n",
        "#However, feature scaling is only fitted on the training data and not the test data. This is due to the fact that in real world data is not scaled and the major purpose of neural networks is to make predictions on real world data. Hence we try as musch as possible to keep the test data real.\n",
        "\n",
        "from sklearn.preprocessing import StandardScaler\n",
        "scaler = StandardScaler()\n",
        "scaler.fit(X_train)\n",
        "\n",
        "X_train = scaler.transform(X_train)\n",
        "X_test = scaler.transform(X_test)"
      ],
      "execution_count": null,
      "outputs": []
    },
    {
      "cell_type": "markdown",
      "metadata": {
        "id": "eTMX2Fiyhltq"
      },
      "source": [
        "**Building our Model**"
      ]
    },
    {
      "cell_type": "markdown",
      "metadata": {
        "id": "A8rRmlgfjlte"
      },
      "source": [
        "*Importing libraries*"
      ]
    },
    {
      "cell_type": "code",
      "metadata": {
        "id": "ogZ4C4d_jnSY"
      },
      "source": [
        "# Importing libraries\n",
        "\n",
        "import pandas as pd\n",
        "from sklearn.model_selection import train_test_split\n",
        "# Import a standardization library\n",
        "from sklearn.preprocessing import StandardScaler\n",
        "# Import an Multi-Layer Perceptron Classifier model estimator from Scikit-Learn's neural_network library\n",
        "from sklearn.neural_network import MLPClassifier\n",
        "from sklearn import metrics\n",
        "from sklearn.metrics import confusion_matrix,accuracy_score, classification_report\n",
        "\n"
      ],
      "execution_count": null,
      "outputs": []
    },
    {
      "cell_type": "markdown",
      "metadata": {
        "id": "pIdZWiu1jvWb"
      },
      "source": [
        "Multi-Layer Perceptron Classifier"
      ]
    },
    {
      "cell_type": "code",
      "metadata": {
        "colab": {
          "base_uri": "https://localhost:8080/"
        },
        "id": "0l70tpyfjhfv",
        "outputId": "46640cc7-25c6-4bc1-8ba3-ebc3345ada7f"
      },
      "source": [
        "# Creating an instance of the model\n",
        "# The MLPClassifier takes in a number of arguments but we are only going to use the hidden layers\n",
        "# For the hidden_layer_sizes we pass in a tuple that consist the number of neurons we want each layer to have. \n",
        "#The nth number of the tuple represents the number of layers you want your network to have.\n",
        "# For us, we will choose 3 layers with the same number of neurons\n",
        "\n",
        "\n",
        "mlp = MLPClassifier(hidden_layer_sizes = (13, 13,13), max_iter = 500)\n",
        "\n",
        "# fitting the data\n",
        "mlp.fit(X_train,y_train)\n",
        "\n"
      ],
      "execution_count": null,
      "outputs": [
        {
          "output_type": "execute_result",
          "data": {
            "text/plain": [
              "MLPClassifier(activation='relu', alpha=0.0001, batch_size='auto', beta_1=0.9,\n",
              "              beta_2=0.999, early_stopping=False, epsilon=1e-08,\n",
              "              hidden_layer_sizes=(13, 13, 13), learning_rate='constant',\n",
              "              learning_rate_init=0.001, max_fun=15000, max_iter=500,\n",
              "              momentum=0.9, n_iter_no_change=10, nesterovs_momentum=True,\n",
              "              power_t=0.5, random_state=None, shuffle=True, solver='adam',\n",
              "              tol=0.0001, validation_fraction=0.1, verbose=False,\n",
              "              warm_start=False)"
            ]
          },
          "metadata": {
            "tags": []
          },
          "execution_count": 44
        }
      ]
    },
    {
      "cell_type": "markdown",
      "metadata": {
        "id": "IUK1iXUKlRp3"
      },
      "source": [
        "Prediction and evaluation"
      ]
    },
    {
      "cell_type": "code",
      "metadata": {
        "colab": {
          "base_uri": "https://localhost:8080/"
        },
        "id": "vNmGVyjqlWsr",
        "outputId": "af1257ef-836e-42ad-93f3-2f8c19b1912b"
      },
      "source": [
        "# Now that we have our model in place, let's do the prediction\n",
        "\n",
        "pred = mlp.predict(X_test)\n",
        "\n",
        "mlp_nn = metrics.accuracy_score(pred,y_test)*100\n",
        "\n",
        "# Evaluating the performance of ur model\n",
        "\n",
        "print('The accuracy of the model is ',metrics.accuracy_score(y_test, pred))\n",
        "\n",
        "print (confusion_matrix(y_test,pred))\n",
        "\n",
        "print('-----------------------------------------------')\n",
        "\n",
        "print(classification_report(y_test,pred))"
      ],
      "execution_count": null,
      "outputs": [
        {
          "output_type": "stream",
          "text": [
            "The accuracy of the model is  0.7540983606557377\n",
            "[[28  7]\n",
            " [ 8 18]]\n",
            "-----------------------------------------------\n",
            "              precision    recall  f1-score   support\n",
            "\n",
            "           0       0.78      0.80      0.79        35\n",
            "           1       0.72      0.69      0.71        26\n",
            "\n",
            "    accuracy                           0.75        61\n",
            "   macro avg       0.75      0.75      0.75        61\n",
            "weighted avg       0.75      0.75      0.75        61\n",
            "\n"
          ],
          "name": "stdout"
        }
      ]
    },
    {
      "cell_type": "code",
      "metadata": {
        "colab": {
          "base_uri": "https://localhost:8080/"
        },
        "id": "MUJ4ZLJxl7ym",
        "outputId": "0e85be53-c4c5-4594-c7fc-75fa7f6f5a19"
      },
      "source": [
        "# Extracting the weights and bias vectors\n",
        "\n",
        "# Checking the number of weights \n",
        "len(mlp.coefs_) \n",
        "\n",
        "# Checking the number of biases \n",
        "len(mlp.intercepts_) "
      ],
      "execution_count": null,
      "outputs": [
        {
          "output_type": "execute_result",
          "data": {
            "text/plain": [
              "4"
            ]
          },
          "metadata": {
            "tags": []
          },
          "execution_count": 46
        }
      ]
    },
    {
      "cell_type": "markdown",
      "metadata": {
        "id": "QJQcZFojTOMI"
      },
      "source": [
        "*Hyperparameter Tuning with Gridsearch*"
      ]
    },
    {
      "cell_type": "code",
      "metadata": {
        "id": "xW9wZwLXTS1i"
      },
      "source": [
        "from sklearn.neural_network import MLPClassifier\n",
        "mlp = MLPClassifier(max_iter=100)"
      ],
      "execution_count": null,
      "outputs": []
    },
    {
      "cell_type": "code",
      "metadata": {
        "id": "Y84ccZXSTaNA"
      },
      "source": [
        "parameter_space = {\n",
        "    'hidden_layer_sizes': [(50,50,50), (50,100,50), (100,)],\n",
        "    'activation': ['tanh', 'relu'],\n",
        "    'solver': ['sgd', 'adam'],\n",
        "    'alpha': [0.0001, 0.05],\n",
        "    'learning_rate': ['constant','adaptive'],\n",
        "}\n"
      ],
      "execution_count": null,
      "outputs": []
    },
    {
      "cell_type": "code",
      "metadata": {
        "colab": {
          "base_uri": "https://localhost:8080/"
        },
        "id": "WI_mra1MTh6B",
        "outputId": "b61cf477-1829-4cb7-f9ec-fd8a6278f6ce"
      },
      "source": [
        "from sklearn.model_selection import GridSearchCV\n",
        "\n",
        "clf = GridSearchCV(mlp, parameter_space, n_jobs=-1, cv=3)\n",
        "clf.fit(X_train, y_train)"
      ],
      "execution_count": null,
      "outputs": [
        {
          "output_type": "execute_result",
          "data": {
            "text/plain": [
              "GridSearchCV(cv=3, error_score=nan,\n",
              "             estimator=MLPClassifier(activation='relu', alpha=0.0001,\n",
              "                                     batch_size='auto', beta_1=0.9,\n",
              "                                     beta_2=0.999, early_stopping=False,\n",
              "                                     epsilon=1e-08, hidden_layer_sizes=(100,),\n",
              "                                     learning_rate='constant',\n",
              "                                     learning_rate_init=0.001, max_fun=15000,\n",
              "                                     max_iter=100, momentum=0.9,\n",
              "                                     n_iter_no_change=10,\n",
              "                                     nesterovs_momentum=True, power_t=0.5,\n",
              "                                     random_state...\n",
              "                                     solver='adam', tol=0.0001,\n",
              "                                     validation_fraction=0.1, verbose=False,\n",
              "                                     warm_start=False),\n",
              "             iid='deprecated', n_jobs=-1,\n",
              "             param_grid={'activation': ['tanh', 'relu'],\n",
              "                         'alpha': [0.0001, 0.05],\n",
              "                         'hidden_layer_sizes': [(50, 50, 50), (50, 100, 50),\n",
              "                                                (100,)],\n",
              "                         'learning_rate': ['constant', 'adaptive'],\n",
              "                         'solver': ['sgd', 'adam']},\n",
              "             pre_dispatch='2*n_jobs', refit=True, return_train_score=False,\n",
              "             scoring=None, verbose=0)"
            ]
          },
          "metadata": {
            "tags": []
          },
          "execution_count": 49
        }
      ]
    },
    {
      "cell_type": "code",
      "metadata": {
        "colab": {
          "base_uri": "https://localhost:8080/"
        },
        "id": "Qm0nGijVTl5I",
        "outputId": "1ab70d0b-8b78-4f9e-f52b-292477d1462a"
      },
      "source": [
        "# Best paramete set\n",
        "print('Best parameters found:\\n', clf.best_params_)\n",
        "\n",
        "# All results\n",
        "means = clf.cv_results_['mean_test_score']\n",
        "stds = clf.cv_results_['std_test_score']\n",
        "for mean, std, params in zip(means, stds, clf.cv_results_['params']):\n",
        "    print(\"%0.3f (+/-%0.03f) for %r\" % (mean, std * 2, params))"
      ],
      "execution_count": null,
      "outputs": [
        {
          "output_type": "stream",
          "text": [
            "Best parameters found:\n",
            " {'activation': 'tanh', 'alpha': 0.05, 'hidden_layer_sizes': (50, 100, 50), 'learning_rate': 'adaptive', 'solver': 'adam'}\n",
            "0.802 (+/-0.093) for {'activation': 'tanh', 'alpha': 0.0001, 'hidden_layer_sizes': (50, 50, 50), 'learning_rate': 'constant', 'solver': 'sgd'}\n",
            "0.822 (+/-0.044) for {'activation': 'tanh', 'alpha': 0.0001, 'hidden_layer_sizes': (50, 50, 50), 'learning_rate': 'constant', 'solver': 'adam'}\n",
            "0.806 (+/-0.009) for {'activation': 'tanh', 'alpha': 0.0001, 'hidden_layer_sizes': (50, 50, 50), 'learning_rate': 'adaptive', 'solver': 'sgd'}\n",
            "0.839 (+/-0.055) for {'activation': 'tanh', 'alpha': 0.0001, 'hidden_layer_sizes': (50, 50, 50), 'learning_rate': 'adaptive', 'solver': 'adam'}\n",
            "0.843 (+/-0.048) for {'activation': 'tanh', 'alpha': 0.0001, 'hidden_layer_sizes': (50, 100, 50), 'learning_rate': 'constant', 'solver': 'sgd'}\n",
            "0.847 (+/-0.064) for {'activation': 'tanh', 'alpha': 0.0001, 'hidden_layer_sizes': (50, 100, 50), 'learning_rate': 'constant', 'solver': 'adam'}\n",
            "0.818 (+/-0.022) for {'activation': 'tanh', 'alpha': 0.0001, 'hidden_layer_sizes': (50, 100, 50), 'learning_rate': 'adaptive', 'solver': 'sgd'}\n",
            "0.822 (+/-0.077) for {'activation': 'tanh', 'alpha': 0.0001, 'hidden_layer_sizes': (50, 100, 50), 'learning_rate': 'adaptive', 'solver': 'adam'}\n",
            "0.810 (+/-0.087) for {'activation': 'tanh', 'alpha': 0.0001, 'hidden_layer_sizes': (100,), 'learning_rate': 'constant', 'solver': 'sgd'}\n",
            "0.822 (+/-0.024) for {'activation': 'tanh', 'alpha': 0.0001, 'hidden_layer_sizes': (100,), 'learning_rate': 'constant', 'solver': 'adam'}\n",
            "0.810 (+/-0.053) for {'activation': 'tanh', 'alpha': 0.0001, 'hidden_layer_sizes': (100,), 'learning_rate': 'adaptive', 'solver': 'sgd'}\n",
            "0.810 (+/-0.064) for {'activation': 'tanh', 'alpha': 0.0001, 'hidden_layer_sizes': (100,), 'learning_rate': 'adaptive', 'solver': 'adam'}\n",
            "0.835 (+/-0.077) for {'activation': 'tanh', 'alpha': 0.05, 'hidden_layer_sizes': (50, 50, 50), 'learning_rate': 'constant', 'solver': 'sgd'}\n",
            "0.835 (+/-0.030) for {'activation': 'tanh', 'alpha': 0.05, 'hidden_layer_sizes': (50, 50, 50), 'learning_rate': 'constant', 'solver': 'adam'}\n",
            "0.789 (+/-0.141) for {'activation': 'tanh', 'alpha': 0.05, 'hidden_layer_sizes': (50, 50, 50), 'learning_rate': 'adaptive', 'solver': 'sgd'}\n",
            "0.831 (+/-0.048) for {'activation': 'tanh', 'alpha': 0.05, 'hidden_layer_sizes': (50, 50, 50), 'learning_rate': 'adaptive', 'solver': 'adam'}\n",
            "0.826 (+/-0.054) for {'activation': 'tanh', 'alpha': 0.05, 'hidden_layer_sizes': (50, 100, 50), 'learning_rate': 'constant', 'solver': 'sgd'}\n",
            "0.822 (+/-0.053) for {'activation': 'tanh', 'alpha': 0.05, 'hidden_layer_sizes': (50, 100, 50), 'learning_rate': 'constant', 'solver': 'adam'}\n",
            "0.826 (+/-0.055) for {'activation': 'tanh', 'alpha': 0.05, 'hidden_layer_sizes': (50, 100, 50), 'learning_rate': 'adaptive', 'solver': 'sgd'}\n",
            "0.851 (+/-0.042) for {'activation': 'tanh', 'alpha': 0.05, 'hidden_layer_sizes': (50, 100, 50), 'learning_rate': 'adaptive', 'solver': 'adam'}\n",
            "0.797 (+/-0.082) for {'activation': 'tanh', 'alpha': 0.05, 'hidden_layer_sizes': (100,), 'learning_rate': 'constant', 'solver': 'sgd'}\n",
            "0.822 (+/-0.030) for {'activation': 'tanh', 'alpha': 0.05, 'hidden_layer_sizes': (100,), 'learning_rate': 'constant', 'solver': 'adam'}\n",
            "0.793 (+/-0.031) for {'activation': 'tanh', 'alpha': 0.05, 'hidden_layer_sizes': (100,), 'learning_rate': 'adaptive', 'solver': 'sgd'}\n",
            "0.818 (+/-0.031) for {'activation': 'tanh', 'alpha': 0.05, 'hidden_layer_sizes': (100,), 'learning_rate': 'adaptive', 'solver': 'adam'}\n",
            "0.777 (+/-0.073) for {'activation': 'relu', 'alpha': 0.0001, 'hidden_layer_sizes': (50, 50, 50), 'learning_rate': 'constant', 'solver': 'sgd'}\n",
            "0.822 (+/-0.024) for {'activation': 'relu', 'alpha': 0.0001, 'hidden_layer_sizes': (50, 50, 50), 'learning_rate': 'constant', 'solver': 'adam'}\n",
            "0.702 (+/-0.090) for {'activation': 'relu', 'alpha': 0.0001, 'hidden_layer_sizes': (50, 50, 50), 'learning_rate': 'adaptive', 'solver': 'sgd'}\n",
            "0.818 (+/-0.060) for {'activation': 'relu', 'alpha': 0.0001, 'hidden_layer_sizes': (50, 50, 50), 'learning_rate': 'adaptive', 'solver': 'adam'}\n",
            "0.814 (+/-0.087) for {'activation': 'relu', 'alpha': 0.0001, 'hidden_layer_sizes': (50, 100, 50), 'learning_rate': 'constant', 'solver': 'sgd'}\n",
            "0.818 (+/-0.013) for {'activation': 'relu', 'alpha': 0.0001, 'hidden_layer_sizes': (50, 100, 50), 'learning_rate': 'constant', 'solver': 'adam'}\n",
            "0.740 (+/-0.125) for {'activation': 'relu', 'alpha': 0.0001, 'hidden_layer_sizes': (50, 100, 50), 'learning_rate': 'adaptive', 'solver': 'sgd'}\n",
            "0.814 (+/-0.020) for {'activation': 'relu', 'alpha': 0.0001, 'hidden_layer_sizes': (50, 100, 50), 'learning_rate': 'adaptive', 'solver': 'adam'}\n",
            "0.773 (+/-0.025) for {'activation': 'relu', 'alpha': 0.0001, 'hidden_layer_sizes': (100,), 'learning_rate': 'constant', 'solver': 'sgd'}\n",
            "0.826 (+/-0.054) for {'activation': 'relu', 'alpha': 0.0001, 'hidden_layer_sizes': (100,), 'learning_rate': 'constant', 'solver': 'adam'}\n",
            "0.794 (+/-0.049) for {'activation': 'relu', 'alpha': 0.0001, 'hidden_layer_sizes': (100,), 'learning_rate': 'adaptive', 'solver': 'sgd'}\n",
            "0.818 (+/-0.066) for {'activation': 'relu', 'alpha': 0.0001, 'hidden_layer_sizes': (100,), 'learning_rate': 'adaptive', 'solver': 'adam'}\n",
            "0.744 (+/-0.022) for {'activation': 'relu', 'alpha': 0.05, 'hidden_layer_sizes': (50, 50, 50), 'learning_rate': 'constant', 'solver': 'sgd'}\n",
            "0.814 (+/-0.020) for {'activation': 'relu', 'alpha': 0.05, 'hidden_layer_sizes': (50, 50, 50), 'learning_rate': 'constant', 'solver': 'adam'}\n",
            "0.785 (+/-0.083) for {'activation': 'relu', 'alpha': 0.05, 'hidden_layer_sizes': (50, 50, 50), 'learning_rate': 'adaptive', 'solver': 'sgd'}\n",
            "0.826 (+/-0.034) for {'activation': 'relu', 'alpha': 0.05, 'hidden_layer_sizes': (50, 50, 50), 'learning_rate': 'adaptive', 'solver': 'adam'}\n",
            "0.773 (+/-0.103) for {'activation': 'relu', 'alpha': 0.05, 'hidden_layer_sizes': (50, 100, 50), 'learning_rate': 'constant', 'solver': 'sgd'}\n",
            "0.818 (+/-0.060) for {'activation': 'relu', 'alpha': 0.05, 'hidden_layer_sizes': (50, 100, 50), 'learning_rate': 'constant', 'solver': 'adam'}\n",
            "0.764 (+/-0.073) for {'activation': 'relu', 'alpha': 0.05, 'hidden_layer_sizes': (50, 100, 50), 'learning_rate': 'adaptive', 'solver': 'sgd'}\n",
            "0.822 (+/-0.051) for {'activation': 'relu', 'alpha': 0.05, 'hidden_layer_sizes': (50, 100, 50), 'learning_rate': 'adaptive', 'solver': 'adam'}\n",
            "0.785 (+/-0.025) for {'activation': 'relu', 'alpha': 0.05, 'hidden_layer_sizes': (100,), 'learning_rate': 'constant', 'solver': 'sgd'}\n",
            "0.826 (+/-0.055) for {'activation': 'relu', 'alpha': 0.05, 'hidden_layer_sizes': (100,), 'learning_rate': 'constant', 'solver': 'adam'}\n",
            "0.806 (+/-0.119) for {'activation': 'relu', 'alpha': 0.05, 'hidden_layer_sizes': (100,), 'learning_rate': 'adaptive', 'solver': 'sgd'}\n",
            "0.826 (+/-0.071) for {'activation': 'relu', 'alpha': 0.05, 'hidden_layer_sizes': (100,), 'learning_rate': 'adaptive', 'solver': 'adam'}\n"
          ],
          "name": "stdout"
        }
      ]
    },
    {
      "cell_type": "code",
      "metadata": {
        "colab": {
          "base_uri": "https://localhost:8080/"
        },
        "id": "kC42DulaTrcY",
        "outputId": "4e8cf279-eb2f-4c91-c22c-88f8d301cc78"
      },
      "source": [
        "y_true, y_pred = y_test , clf.predict(X_test)\n",
        "\n",
        "from sklearn.metrics import classification_report\n",
        "print('Results on the test set:')\n",
        "print(classification_report(y_true, y_pred))"
      ],
      "execution_count": null,
      "outputs": [
        {
          "output_type": "stream",
          "text": [
            "Results on the test set:\n",
            "              precision    recall  f1-score   support\n",
            "\n",
            "           0       0.81      0.86      0.83        35\n",
            "           1       0.79      0.73      0.76        26\n",
            "\n",
            "    accuracy                           0.80        61\n",
            "   macro avg       0.80      0.79      0.80        61\n",
            "weighted avg       0.80      0.80      0.80        61\n",
            "\n"
          ],
          "name": "stdout"
        }
      ]
    },
    {
      "cell_type": "markdown",
      "metadata": {
        "id": "tPHUpqHTmKue"
      },
      "source": [
        "#**Challenging the Solution**"
      ]
    },
    {
      "cell_type": "markdown",
      "metadata": {
        "id": "ZhDuBtOVmRdW"
      },
      "source": [
        "*Building our neural network model using keras*"
      ]
    },
    {
      "cell_type": "code",
      "metadata": {
        "id": "KJTg3eBknK-K"
      },
      "source": [
        "#Importing our libraries\n",
        "\n",
        "import matplotlib.pyplot as plt\n",
        "import sklearn.model_selection\n",
        "import sklearn.metrics\n",
        "import sklearn.preprocessing\n",
        "import keras\n",
        "from keras.models import Sequential\n",
        "from keras.layers import Dense"
      ],
      "execution_count": null,
      "outputs": []
    },
    {
      "cell_type": "code",
      "metadata": {
        "id": "q3nr8inco-1f"
      },
      "source": [
        "##Declaring our X and Y variables\n",
        "\n",
        "X = data.drop('target', axis=1)\n",
        "y = data.target"
      ],
      "execution_count": null,
      "outputs": []
    },
    {
      "cell_type": "code",
      "metadata": {
        "colab": {
          "base_uri": "https://localhost:8080/"
        },
        "id": "AFRtrCtPp7hm",
        "outputId": "cfb2bd80-ff39-471e-f1b8-798c582d0ea5"
      },
      "source": [
        "X.shape"
      ],
      "execution_count": null,
      "outputs": [
        {
          "output_type": "execute_result",
          "data": {
            "text/plain": [
              "(303, 13)"
            ]
          },
          "metadata": {
            "tags": []
          },
          "execution_count": 54
        }
      ]
    },
    {
      "cell_type": "code",
      "metadata": {
        "id": "MHQgDF5JSFeB"
      },
      "source": [
        "# Train Test Split \n",
        "from sklearn.model_selection import train_test_split\n",
        "X_train, X_test, y_train, y_test = train_test_split(X, y, test_size=.20, random_state=0)"
      ],
      "execution_count": null,
      "outputs": []
    },
    {
      "cell_type": "code",
      "metadata": {
        "id": "RN6dPV1GSj2O"
      },
      "source": [
        "from sklearn.preprocessing import StandardScaler\n",
        "scaler = StandardScaler()\n",
        "scaler.fit(X_train)\n",
        "\n",
        "X_train = scaler.transform(X_train)\n",
        "X_test = scaler.transform(X_test)"
      ],
      "execution_count": null,
      "outputs": []
    },
    {
      "cell_type": "code",
      "metadata": {
        "id": "lEt41jTwhrwC"
      },
      "source": [
        "#Since this is a binary classification problem (onset of heart disease as 1 or not as 0). All of the input variables that describe each patient are numerical. \n",
        "#This makes it easy to use directly with neural networks that expect numerical input and output values, and ideal for our model using Keras."
      ],
      "execution_count": null,
      "outputs": []
    },
    {
      "cell_type": "code",
      "metadata": {
        "id": "vsUcjZd2mzG0"
      },
      "source": [
        "#Models in Keras are defined as a sequence of layers.\n",
        "#We create a Sequential model and add layers one at a time until we are happy with our network architecture.We will use three layers for our model\n",
        "#We will use Relu and Sigmoid as our activation functions for the first three layers and \n",
        "#sigmoid on the output layer to ensure our network output is between 0 and 1 and easy to map."
      ],
      "execution_count": null,
      "outputs": []
    },
    {
      "cell_type": "code",
      "metadata": {
        "id": "BkdJzz6pjAIo"
      },
      "source": [
        "##Defining our Keras Model\n",
        "model = Sequential()\n",
        "model.add(Dense(12, input_dim=13, activation='relu'))\n",
        "model.add(Dense(9, activation='relu'))\n",
        "model.add(Dense(1, activation='sigmoid'))"
      ],
      "execution_count": null,
      "outputs": []
    },
    {
      "cell_type": "code",
      "metadata": {
        "id": "pIL8FkwYn6hW"
      },
      "source": [
        "#Now that we have defined our Keras model, we can compile it\n",
        "\n",
        "model.compile(loss='binary_crossentropy', optimizer='adam', metrics=['accuracy'])\n",
        "\n",
        "#For our case, we will use cross entropy as the loss argument. \n",
        "#This loss is for a binary classification problems and is defined in Keras as “binary_crossentropy“"
      ],
      "execution_count": null,
      "outputs": []
    },
    {
      "cell_type": "code",
      "metadata": {
        "colab": {
          "base_uri": "https://localhost:8080/"
        },
        "id": "epY8n5jwoLRr",
        "outputId": "a44e723d-3f34-4e81-dd03-70b4c2e88a56"
      },
      "source": [
        "#Fitting the keras model on the dataset\n",
        "model.fit(X_train, y_train, epochs=200, batch_size=15, verbose=0 )\n",
        "\n"
      ],
      "execution_count": null,
      "outputs": [
        {
          "output_type": "execute_result",
          "data": {
            "text/plain": [
              "<keras.callbacks.History at 0x7f9612f8cd90>"
            ]
          },
          "metadata": {
            "tags": []
          },
          "execution_count": 61
        }
      ]
    },
    {
      "cell_type": "code",
      "metadata": {
        "id": "Hc9ntI-WS7Y5"
      },
      "source": [
        "#Making the predicton\n",
        "y_pred_nn = model.predict(X_test)"
      ],
      "execution_count": null,
      "outputs": []
    },
    {
      "cell_type": "code",
      "metadata": {
        "id": "XS3uKimlUsqI"
      },
      "source": [
        "rounded = [round(x[0]) for x in y_pred_nn]\n",
        "\n",
        "y_pred_nn = rounded"
      ],
      "execution_count": null,
      "outputs": []
    },
    {
      "cell_type": "code",
      "metadata": {
        "colab": {
          "base_uri": "https://localhost:8080/"
        },
        "id": "fsg76vu9Uwi0",
        "outputId": "117cb193-44d5-4985-ca6a-a54f42e67fd2"
      },
      "source": [
        "#Evaluating the performance of our model\n",
        "score_nn = round(accuracy_score(y_pred_nn,y_test)*100,2)\n",
        "\n",
        "print(\"The accuracy score achieved using Neural Network is: \"+str(score_nn)+\" %\")\n",
        "\n",
        "print (confusion_matrix(y_test,y_pred_nn))\n"
      ],
      "execution_count": null,
      "outputs": [
        {
          "output_type": "stream",
          "text": [
            "The accuracy score achieved using Neural Network is: 86.89 %\n",
            "[[23  4]\n",
            " [ 4 30]]\n"
          ],
          "name": "stdout"
        }
      ]
    },
    {
      "cell_type": "code",
      "metadata": {
        "id": "ua2sE6gIo3Si"
      },
      "source": [
        "# evaluate the keras model\n",
        "#_, accuracy = model.evaluate(X, y)\n",
        "#print('Accuracy: %.2f' % (accuracy*100))"
      ],
      "execution_count": null,
      "outputs": []
    },
    {
      "cell_type": "markdown",
      "metadata": {
        "id": "T_4tRCCLzO2Z"
      },
      "source": [
        "Hyperparameter tuning with Gridsearch"
      ]
    },
    {
      "cell_type": "code",
      "metadata": {
        "id": "Tx1pY4qTWNkz"
      },
      "source": [
        "\n",
        "# import the libraries \n",
        "import tensorflow as tf\n",
        "import pandas as pd\n",
        "from sklearn.compose import ColumnTransformer\n",
        "from sklearn.preprocessing import OneHotEncoder\n",
        "from keras.wrappers.scikit_learn import KerasClassifier\n",
        "from sklearn.model_selection import GridSearchCV\n",
        "from sklearn.preprocessing import LabelEncoder\n",
        "from sklearn.preprocessing import StandardScaler"
      ],
      "execution_count": null,
      "outputs": []
    },
    {
      "cell_type": "code",
      "metadata": {
        "id": "mX1ZkcVJtQUP"
      },
      "source": [
        "def build_clf(unit):\n",
        "  # creating the layers of the NN\n",
        "  ann = tf.keras.models.Sequential()\n",
        "  ann.add(tf.keras.layers.Dense(units=unit, activation='relu'))\n",
        "  ann.add(tf.keras.layers.Dense(units=unit, activation='relu'))\n",
        "  ann.add(tf.keras.layers.Dense(units=1, activation='sigmoid'))\n",
        "  ann.compile(optimizer = 'adam', loss = 'binary_crossentropy', metrics = ['accuracy'])\n",
        "  return ann\n",
        "\n"
      ],
      "execution_count": null,
      "outputs": []
    },
    {
      "cell_type": "code",
      "metadata": {
        "id": "tiD4cA7VVXfo"
      },
      "source": [
        "\n",
        "model=KerasClassifier(build_fn=build_clf)"
      ],
      "execution_count": null,
      "outputs": []
    },
    {
      "cell_type": "code",
      "metadata": {
        "colab": {
          "base_uri": "https://localhost:8080/"
        },
        "id": "mI1RsRpKVcl9",
        "outputId": "add950d0-06dd-4a64-f395-17933b09633f"
      },
      "source": [
        "params={'batch_size':[30, 20, 50], \n",
        "        'nb_epoch':[200, 100, 300],\n",
        "        'unit':[10, 12, 15],\n",
        "           \n",
        "        }\n",
        "gs=GridSearchCV(estimator=model, param_grid=params, cv=10)\n",
        "# now fit the dataset to the GridSearchCV object. \n",
        "gs = gs.fit(X_train, y_train)"
      ],
      "execution_count": null,
      "outputs": [
        {
          "output_type": "stream",
          "text": [
            "8/8 [==============================] - 1s 2ms/step - loss: 0.7036 - accuracy: 0.5760\n",
            "1/1 [==============================] - 0s 169ms/step - loss: 0.7026 - accuracy: 0.5200\n",
            "8/8 [==============================] - 1s 3ms/step - loss: 0.7438 - accuracy: 0.5576\n",
            "1/1 [==============================] - 0s 128ms/step - loss: 0.7695 - accuracy: 0.4400\n",
            "8/8 [==============================] - 1s 3ms/step - loss: 0.6179 - accuracy: 0.6789\n",
            "1/1 [==============================] - 0s 433ms/step - loss: 0.5358 - accuracy: 0.7500\n",
            "8/8 [==============================] - 1s 2ms/step - loss: 0.7602 - accuracy: 0.4541\n",
            "1/1 [==============================] - 0s 130ms/step - loss: 0.6694 - accuracy: 0.5000\n",
            "8/8 [==============================] - 1s 3ms/step - loss: 0.6757 - accuracy: 0.5505\n",
            "WARNING:tensorflow:5 out of the last 5 calls to <function Model.make_test_function.<locals>.test_function at 0x7f9611e55320> triggered tf.function retracing. Tracing is expensive and the excessive number of tracings could be due to (1) creating @tf.function repeatedly in a loop, (2) passing tensors with different shapes, (3) passing Python objects instead of tensors. For (1), please define your @tf.function outside of the loop. For (2), @tf.function has experimental_relax_shapes=True option that relaxes argument shapes that can avoid unnecessary retracing. For (3), please refer to https://www.tensorflow.org/guide/function#controlling_retracing and https://www.tensorflow.org/api_docs/python/tf/function for  more details.\n",
            "1/1 [==============================] - 0s 142ms/step - loss: 0.6375 - accuracy: 0.6250\n",
            "8/8 [==============================] - 1s 3ms/step - loss: 0.7099 - accuracy: 0.5367\n",
            "WARNING:tensorflow:6 out of the last 6 calls to <function Model.make_test_function.<locals>.test_function at 0x7f9611e1a0e0> triggered tf.function retracing. Tracing is expensive and the excessive number of tracings could be due to (1) creating @tf.function repeatedly in a loop, (2) passing tensors with different shapes, (3) passing Python objects instead of tensors. For (1), please define your @tf.function outside of the loop. For (2), @tf.function has experimental_relax_shapes=True option that relaxes argument shapes that can avoid unnecessary retracing. For (3), please refer to https://www.tensorflow.org/guide/function#controlling_retracing and https://www.tensorflow.org/api_docs/python/tf/function for  more details.\n",
            "1/1 [==============================] - 0s 119ms/step - loss: 0.6297 - accuracy: 0.6667\n",
            "8/8 [==============================] - 1s 3ms/step - loss: 0.6903 - accuracy: 0.5505\n",
            "1/1 [==============================] - 0s 136ms/step - loss: 0.6990 - accuracy: 0.6250\n",
            "8/8 [==============================] - 1s 3ms/step - loss: 0.6830 - accuracy: 0.5734\n",
            "1/1 [==============================] - 0s 126ms/step - loss: 0.6812 - accuracy: 0.5417\n",
            "8/8 [==============================] - 1s 3ms/step - loss: 0.8499 - accuracy: 0.4037\n",
            "1/1 [==============================] - 0s 125ms/step - loss: 0.7751 - accuracy: 0.4583\n",
            "8/8 [==============================] - 1s 2ms/step - loss: 0.6679 - accuracy: 0.6193\n",
            "1/1 [==============================] - 0s 120ms/step - loss: 0.6067 - accuracy: 0.7083\n",
            "8/8 [==============================] - 1s 2ms/step - loss: 0.7226 - accuracy: 0.4885\n",
            "1/1 [==============================] - 0s 116ms/step - loss: 0.7223 - accuracy: 0.5200\n",
            "8/8 [==============================] - 1s 2ms/step - loss: 0.7142 - accuracy: 0.5207\n",
            "1/1 [==============================] - 0s 122ms/step - loss: 0.7060 - accuracy: 0.4800\n",
            "8/8 [==============================] - 1s 3ms/step - loss: 0.6578 - accuracy: 0.5872\n",
            "1/1 [==============================] - 0s 112ms/step - loss: 0.6528 - accuracy: 0.6250\n",
            "8/8 [==============================] - 1s 2ms/step - loss: 0.8332 - accuracy: 0.3394\n",
            "1/1 [==============================] - 0s 133ms/step - loss: 0.7934 - accuracy: 0.3750\n",
            "8/8 [==============================] - 1s 3ms/step - loss: 0.7703 - accuracy: 0.3716\n",
            "1/1 [==============================] - 1s 671ms/step - loss: 0.6983 - accuracy: 0.4583\n",
            "8/8 [==============================] - 1s 2ms/step - loss: 0.7953 - accuracy: 0.4450\n",
            "1/1 [==============================] - 0s 126ms/step - loss: 0.7772 - accuracy: 0.4167\n",
            "8/8 [==============================] - 1s 2ms/step - loss: 0.7069 - accuracy: 0.4128\n",
            "1/1 [==============================] - 0s 124ms/step - loss: 0.7215 - accuracy: 0.3750\n",
            "8/8 [==============================] - 1s 2ms/step - loss: 0.6943 - accuracy: 0.5367\n",
            "1/1 [==============================] - 0s 118ms/step - loss: 0.6664 - accuracy: 0.5417\n",
            "8/8 [==============================] - 0s 3ms/step - loss: 0.7554 - accuracy: 0.4817\n",
            "1/1 [==============================] - 0s 133ms/step - loss: 0.7099 - accuracy: 0.4583\n",
            "8/8 [==============================] - 0s 2ms/step - loss: 0.6549 - accuracy: 0.5505\n",
            "1/1 [==============================] - 0s 113ms/step - loss: 0.7179 - accuracy: 0.5000\n",
            "8/8 [==============================] - 0s 2ms/step - loss: 0.7272 - accuracy: 0.4931\n",
            "1/1 [==============================] - 0s 118ms/step - loss: 0.6990 - accuracy: 0.5600\n",
            "8/8 [==============================] - 1s 3ms/step - loss: 0.6917 - accuracy: 0.6313\n",
            "1/1 [==============================] - 0s 124ms/step - loss: 0.6125 - accuracy: 0.6400\n",
            "8/8 [==============================] - 0s 3ms/step - loss: 0.7325 - accuracy: 0.4817\n",
            "1/1 [==============================] - 0s 121ms/step - loss: 0.7000 - accuracy: 0.5417\n",
            "8/8 [==============================] - 0s 2ms/step - loss: 0.6221 - accuracy: 0.6835\n",
            "1/1 [==============================] - 0s 117ms/step - loss: 0.7157 - accuracy: 0.7083\n",
            "8/8 [==============================] - 0s 2ms/step - loss: 0.6730 - accuracy: 0.6009\n",
            "1/1 [==============================] - 0s 135ms/step - loss: 0.5645 - accuracy: 0.9167\n",
            "8/8 [==============================] - 0s 2ms/step - loss: 0.7203 - accuracy: 0.5459\n",
            "1/1 [==============================] - 0s 126ms/step - loss: 0.6975 - accuracy: 0.5833\n",
            "8/8 [==============================] - 0s 3ms/step - loss: 0.6945 - accuracy: 0.5229\n",
            "1/1 [==============================] - 1s 681ms/step - loss: 0.6082 - accuracy: 0.7083\n",
            "8/8 [==============================] - 1s 3ms/step - loss: 0.7961 - accuracy: 0.4037\n",
            "1/1 [==============================] - 0s 128ms/step - loss: 0.7457 - accuracy: 0.4583\n",
            "8/8 [==============================] - 1s 2ms/step - loss: 0.7552 - accuracy: 0.4633\n",
            "1/1 [==============================] - 0s 119ms/step - loss: 0.7624 - accuracy: 0.4583\n",
            "8/8 [==============================] - 0s 3ms/step - loss: 0.7298 - accuracy: 0.5734\n",
            "1/1 [==============================] - 0s 116ms/step - loss: 0.7949 - accuracy: 0.5417\n",
            "8/8 [==============================] - 1s 3ms/step - loss: 0.7305 - accuracy: 0.5069\n",
            "1/1 [==============================] - 0s 117ms/step - loss: 0.6710 - accuracy: 0.6000\n",
            "8/8 [==============================] - 0s 3ms/step - loss: 0.7813 - accuracy: 0.5530\n",
            "1/1 [==============================] - 0s 117ms/step - loss: 0.8991 - accuracy: 0.4400\n",
            "8/8 [==============================] - 1s 3ms/step - loss: 0.7237 - accuracy: 0.4633\n",
            "1/1 [==============================] - 0s 123ms/step - loss: 0.7347 - accuracy: 0.3750\n",
            "8/8 [==============================] - 0s 3ms/step - loss: 0.7431 - accuracy: 0.3624\n",
            "1/1 [==============================] - 0s 122ms/step - loss: 0.7227 - accuracy: 0.4583\n",
            "8/8 [==============================] - 0s 3ms/step - loss: 0.7090 - accuracy: 0.4771\n",
            "1/1 [==============================] - 0s 124ms/step - loss: 0.6461 - accuracy: 0.5833\n",
            "8/8 [==============================] - 1s 4ms/step - loss: 0.7275 - accuracy: 0.5275\n",
            "1/1 [==============================] - 0s 139ms/step - loss: 0.6845 - accuracy: 0.5000\n",
            "8/8 [==============================] - 0s 2ms/step - loss: 0.8052 - accuracy: 0.4587\n",
            "1/1 [==============================] - 0s 124ms/step - loss: 0.7159 - accuracy: 0.4583\n",
            "8/8 [==============================] - 1s 3ms/step - loss: 0.6804 - accuracy: 0.5505\n",
            "1/1 [==============================] - 0s 116ms/step - loss: 0.6615 - accuracy: 0.6250\n",
            "8/8 [==============================] - 0s 2ms/step - loss: 0.7203 - accuracy: 0.5367\n",
            "1/1 [==============================] - 1s 702ms/step - loss: 0.7071 - accuracy: 0.5000\n",
            "8/8 [==============================] - 1s 2ms/step - loss: 0.8267 - accuracy: 0.4450\n",
            "1/1 [==============================] - 0s 124ms/step - loss: 0.6516 - accuracy: 0.5833\n",
            "8/8 [==============================] - 1s 3ms/step - loss: 0.6949 - accuracy: 0.4654\n",
            "1/1 [==============================] - 0s 120ms/step - loss: 0.7001 - accuracy: 0.4400\n",
            "8/8 [==============================] - 1s 2ms/step - loss: 0.6717 - accuracy: 0.5622\n",
            "1/1 [==============================] - 0s 114ms/step - loss: 0.7388 - accuracy: 0.5600\n",
            "8/8 [==============================] - 1s 3ms/step - loss: 0.7123 - accuracy: 0.5229\n",
            "1/1 [==============================] - 0s 131ms/step - loss: 0.6801 - accuracy: 0.5417\n",
            "8/8 [==============================] - 1s 3ms/step - loss: 0.6583 - accuracy: 0.5963\n",
            "1/1 [==============================] - 0s 120ms/step - loss: 0.6853 - accuracy: 0.6250\n",
            "8/8 [==============================] - 1s 2ms/step - loss: 0.7083 - accuracy: 0.4954\n",
            "1/1 [==============================] - 0s 123ms/step - loss: 0.7035 - accuracy: 0.6250\n",
            "8/8 [==============================] - 1s 2ms/step - loss: 0.8026 - accuracy: 0.3303\n",
            "1/1 [==============================] - 0s 123ms/step - loss: 0.7126 - accuracy: 0.5417\n",
            "8/8 [==============================] - 0s 2ms/step - loss: 0.6879 - accuracy: 0.5596\n",
            "1/1 [==============================] - 0s 134ms/step - loss: 0.6461 - accuracy: 0.6250\n",
            "8/8 [==============================] - 1s 3ms/step - loss: 0.6872 - accuracy: 0.5734\n",
            "1/1 [==============================] - 0s 116ms/step - loss: 0.6057 - accuracy: 0.7083\n",
            "8/8 [==============================] - 1s 3ms/step - loss: 0.6834 - accuracy: 0.6239\n",
            "1/1 [==============================] - 0s 114ms/step - loss: 0.6482 - accuracy: 0.5833\n",
            "8/8 [==============================] - 1s 2ms/step - loss: 0.7295 - accuracy: 0.4266\n",
            "1/1 [==============================] - 0s 117ms/step - loss: 0.7134 - accuracy: 0.4583\n",
            "8/8 [==============================] - 1s 4ms/step - loss: 0.6962 - accuracy: 0.5161\n",
            "1/1 [==============================] - 1s 678ms/step - loss: 0.6563 - accuracy: 0.6400\n",
            "8/8 [==============================] - 1s 4ms/step - loss: 0.7424 - accuracy: 0.4378\n",
            "1/1 [==============================] - 0s 128ms/step - loss: 0.7497 - accuracy: 0.5200\n",
            "8/8 [==============================] - 1s 3ms/step - loss: 0.8094 - accuracy: 0.3899\n",
            "1/1 [==============================] - 0s 140ms/step - loss: 0.9016 - accuracy: 0.4167\n",
            "8/8 [==============================] - 1s 3ms/step - loss: 0.7328 - accuracy: 0.4679\n",
            "1/1 [==============================] - 0s 140ms/step - loss: 0.6918 - accuracy: 0.4583\n",
            "8/8 [==============================] - 1s 2ms/step - loss: 0.7475 - accuracy: 0.4771\n",
            "1/1 [==============================] - 0s 122ms/step - loss: 0.7328 - accuracy: 0.4167\n",
            "8/8 [==============================] - 1s 3ms/step - loss: 0.7721 - accuracy: 0.4358\n",
            "1/1 [==============================] - 0s 124ms/step - loss: 0.7031 - accuracy: 0.4583\n",
            "8/8 [==============================] - 1s 2ms/step - loss: 0.7429 - accuracy: 0.4817\n",
            "1/1 [==============================] - 0s 122ms/step - loss: 0.7448 - accuracy: 0.3333\n",
            "8/8 [==============================] - 1s 3ms/step - loss: 0.6633 - accuracy: 0.5826\n",
            "1/1 [==============================] - 0s 117ms/step - loss: 0.6511 - accuracy: 0.6250\n",
            "8/8 [==============================] - 0s 3ms/step - loss: 0.7877 - accuracy: 0.3853\n",
            "1/1 [==============================] - 0s 117ms/step - loss: 0.7342 - accuracy: 0.5833\n",
            "8/8 [==============================] - 1s 3ms/step - loss: 0.6956 - accuracy: 0.4908\n",
            "1/1 [==============================] - 0s 127ms/step - loss: 0.6237 - accuracy: 0.5833\n",
            "8/8 [==============================] - 1s 3ms/step - loss: 0.7383 - accuracy: 0.4747\n",
            "1/1 [==============================] - 0s 120ms/step - loss: 0.6770 - accuracy: 0.6400\n",
            "8/8 [==============================] - 0s 2ms/step - loss: 0.7040 - accuracy: 0.5023\n",
            "1/1 [==============================] - 0s 126ms/step - loss: 0.7339 - accuracy: 0.3600\n",
            "8/8 [==============================] - 0s 3ms/step - loss: 0.7377 - accuracy: 0.4358\n",
            "1/1 [==============================] - 1s 684ms/step - loss: 0.7483 - accuracy: 0.5000\n",
            "8/8 [==============================] - 1s 4ms/step - loss: 0.7324 - accuracy: 0.4404\n",
            "1/1 [==============================] - 0s 137ms/step - loss: 0.7276 - accuracy: 0.4583\n",
            "8/8 [==============================] - 1s 3ms/step - loss: 1.0076 - accuracy: 0.4541\n",
            "1/1 [==============================] - 0s 122ms/step - loss: 0.9313 - accuracy: 0.4167\n",
            "8/8 [==============================] - 1s 3ms/step - loss: 0.7421 - accuracy: 0.5000\n",
            "1/1 [==============================] - 0s 118ms/step - loss: 0.5958 - accuracy: 0.6250\n",
            "8/8 [==============================] - 0s 3ms/step - loss: 0.8512 - accuracy: 0.3394\n",
            "1/1 [==============================] - 0s 125ms/step - loss: 0.8390 - accuracy: 0.2500\n",
            "8/8 [==============================] - 1s 3ms/step - loss: 0.6937 - accuracy: 0.5183\n",
            "1/1 [==============================] - 0s 121ms/step - loss: 0.7233 - accuracy: 0.5000\n",
            "8/8 [==============================] - 1s 3ms/step - loss: 0.6995 - accuracy: 0.5413\n",
            "1/1 [==============================] - 0s 120ms/step - loss: 0.6982 - accuracy: 0.6250\n",
            "8/8 [==============================] - 1s 3ms/step - loss: 0.6963 - accuracy: 0.4587\n",
            "1/1 [==============================] - 0s 124ms/step - loss: 0.6748 - accuracy: 0.6250\n",
            "8/8 [==============================] - 1s 3ms/step - loss: 0.6797 - accuracy: 0.5899\n",
            "1/1 [==============================] - 0s 127ms/step - loss: 0.6639 - accuracy: 0.5600\n",
            "8/8 [==============================] - 1s 2ms/step - loss: 0.6946 - accuracy: 0.5760\n",
            "1/1 [==============================] - 0s 118ms/step - loss: 0.7396 - accuracy: 0.4800\n",
            "8/8 [==============================] - 0s 2ms/step - loss: 0.6666 - accuracy: 0.4771\n",
            "1/1 [==============================] - 0s 124ms/step - loss: 0.7591 - accuracy: 0.3750\n",
            "8/8 [==============================] - 1s 3ms/step - loss: 0.8124 - accuracy: 0.4587\n",
            "1/1 [==============================] - 0s 139ms/step - loss: 0.6828 - accuracy: 0.5000\n",
            "8/8 [==============================] - 0s 2ms/step - loss: 0.7154 - accuracy: 0.4725\n",
            "1/1 [==============================] - 1s 711ms/step - loss: 0.6960 - accuracy: 0.4583\n",
            "8/8 [==============================] - 1s 3ms/step - loss: 0.8595 - accuracy: 0.4404\n",
            "1/1 [==============================] - 0s 131ms/step - loss: 0.8125 - accuracy: 0.3750\n",
            "8/8 [==============================] - 1s 3ms/step - loss: 0.6806 - accuracy: 0.5138\n",
            "1/1 [==============================] - 0s 119ms/step - loss: 0.6879 - accuracy: 0.5000\n",
            "8/8 [==============================] - 1s 2ms/step - loss: 0.6774 - accuracy: 0.5275\n",
            "1/1 [==============================] - 0s 117ms/step - loss: 0.5869 - accuracy: 0.6667\n",
            "8/8 [==============================] - 1s 3ms/step - loss: 0.7012 - accuracy: 0.5229\n",
            "1/1 [==============================] - 0s 125ms/step - loss: 0.7512 - accuracy: 0.4167\n",
            "8/8 [==============================] - 1s 3ms/step - loss: 0.8745 - accuracy: 0.3349\n",
            "1/1 [==============================] - 0s 115ms/step - loss: 0.8609 - accuracy: 0.2917\n",
            "8/8 [==============================] - 1s 3ms/step - loss: 0.6725 - accuracy: 0.6452\n",
            "1/1 [==============================] - 0s 120ms/step - loss: 0.6621 - accuracy: 0.6400\n",
            "8/8 [==============================] - 1s 3ms/step - loss: 0.6786 - accuracy: 0.5945\n",
            "1/1 [==============================] - 0s 115ms/step - loss: 0.7151 - accuracy: 0.4000\n",
            "8/8 [==============================] - 1s 3ms/step - loss: 0.7562 - accuracy: 0.5092\n",
            "1/1 [==============================] - 0s 127ms/step - loss: 0.7884 - accuracy: 0.3750\n",
            "8/8 [==============================] - 1s 3ms/step - loss: 0.7164 - accuracy: 0.5000\n",
            "1/1 [==============================] - 0s 121ms/step - loss: 0.6975 - accuracy: 0.6250\n",
            "8/8 [==============================] - 0s 4ms/step - loss: 0.7547 - accuracy: 0.4450\n",
            "1/1 [==============================] - 0s 129ms/step - loss: 0.8293 - accuracy: 0.4167\n",
            "8/8 [==============================] - 1s 2ms/step - loss: 0.7495 - accuracy: 0.4450\n",
            "1/1 [==============================] - 0s 117ms/step - loss: 0.7454 - accuracy: 0.5000\n",
            "8/8 [==============================] - 1s 3ms/step - loss: 0.8288 - accuracy: 0.4128\n",
            "1/1 [==============================] - 0s 119ms/step - loss: 0.8457 - accuracy: 0.3333\n",
            "8/8 [==============================] - 1s 3ms/step - loss: 0.6999 - accuracy: 0.5321\n",
            "1/1 [==============================] - 0s 128ms/step - loss: 0.7455 - accuracy: 0.5833\n",
            "8/8 [==============================] - 1s 3ms/step - loss: 0.7053 - accuracy: 0.4725\n",
            "1/1 [==============================] - 0s 116ms/step - loss: 0.6954 - accuracy: 0.5417\n",
            "8/8 [==============================] - 1s 3ms/step - loss: 0.7296 - accuracy: 0.3899\n",
            "1/1 [==============================] - 0s 127ms/step - loss: 0.7152 - accuracy: 0.4167\n",
            "11/11 [==============================] - 1s 2ms/step - loss: 0.7016 - accuracy: 0.4931\n",
            "2/2 [==============================] - 0s 8ms/step - loss: 0.6881 - accuracy: 0.6000\n",
            "11/11 [==============================] - 1s 3ms/step - loss: 0.7925 - accuracy: 0.3226\n",
            "2/2 [==============================] - 0s 10ms/step - loss: 0.7794 - accuracy: 0.4000\n",
            "11/11 [==============================] - 1s 3ms/step - loss: 0.7824 - accuracy: 0.4862\n",
            "2/2 [==============================] - 0s 9ms/step - loss: 0.6968 - accuracy: 0.5000\n",
            "11/11 [==============================] - 1s 3ms/step - loss: 0.5767 - accuracy: 0.7385\n",
            "2/2 [==============================] - 0s 6ms/step - loss: 0.6676 - accuracy: 0.6250\n",
            "11/11 [==============================] - 1s 2ms/step - loss: 0.8172 - accuracy: 0.4954\n",
            "2/2 [==============================] - 0s 27ms/step - loss: 0.7714 - accuracy: 0.5833\n",
            "11/11 [==============================] - 1s 3ms/step - loss: 0.6587 - accuracy: 0.5596\n",
            "2/2 [==============================] - 0s 6ms/step - loss: 0.6416 - accuracy: 0.5417\n",
            "11/11 [==============================] - 1s 2ms/step - loss: 0.7602 - accuracy: 0.3899\n",
            "2/2 [==============================] - 0s 7ms/step - loss: 0.8384 - accuracy: 0.3333\n",
            "11/11 [==============================] - 1s 3ms/step - loss: 0.6951 - accuracy: 0.5688\n",
            "2/2 [==============================] - 0s 6ms/step - loss: 0.6041 - accuracy: 0.8333\n",
            "11/11 [==============================] - 1s 2ms/step - loss: 0.7116 - accuracy: 0.4771\n",
            "2/2 [==============================] - 0s 11ms/step - loss: 0.7060 - accuracy: 0.5417\n",
            "11/11 [==============================] - 1s 2ms/step - loss: 0.6592 - accuracy: 0.6606\n",
            "2/2 [==============================] - 0s 7ms/step - loss: 0.6277 - accuracy: 0.7083\n",
            "11/11 [==============================] - 1s 2ms/step - loss: 0.6530 - accuracy: 0.6452\n",
            "2/2 [==============================] - 0s 9ms/step - loss: 0.6457 - accuracy: 0.6400\n",
            "11/11 [==============================] - 1s 2ms/step - loss: 0.6337 - accuracy: 0.6406\n",
            "2/2 [==============================] - 0s 8ms/step - loss: 0.6250 - accuracy: 0.6400\n",
            "11/11 [==============================] - 1s 3ms/step - loss: 0.6396 - accuracy: 0.7064\n",
            "2/2 [==============================] - 0s 7ms/step - loss: 0.6746 - accuracy: 0.5417\n",
            "11/11 [==============================] - 1s 2ms/step - loss: 0.7438 - accuracy: 0.4587\n",
            "2/2 [==============================] - 0s 6ms/step - loss: 0.7178 - accuracy: 0.5417\n",
            "11/11 [==============================] - 1s 3ms/step - loss: 0.7372 - accuracy: 0.6055\n",
            "2/2 [==============================] - 0s 8ms/step - loss: 0.6080 - accuracy: 0.6667\n",
            "11/11 [==============================] - 1s 3ms/step - loss: 0.6931 - accuracy: 0.4954\n",
            "2/2 [==============================] - 0s 7ms/step - loss: 0.6884 - accuracy: 0.6667\n",
            "11/11 [==============================] - 1s 2ms/step - loss: 0.7326 - accuracy: 0.5138\n",
            "2/2 [==============================] - 0s 7ms/step - loss: 0.6978 - accuracy: 0.4583\n",
            "11/11 [==============================] - 1s 2ms/step - loss: 0.7454 - accuracy: 0.5505\n",
            "2/2 [==============================] - 0s 10ms/step - loss: 0.6382 - accuracy: 0.6667\n",
            "11/11 [==============================] - 1s 3ms/step - loss: 0.5567 - accuracy: 0.7339\n",
            "2/2 [==============================] - 0s 11ms/step - loss: 0.6199 - accuracy: 0.6667\n",
            "11/11 [==============================] - 1s 3ms/step - loss: 0.6702 - accuracy: 0.6055\n",
            "2/2 [==============================] - 0s 10ms/step - loss: 0.6638 - accuracy: 0.6667\n",
            "11/11 [==============================] - 1s 2ms/step - loss: 0.7619 - accuracy: 0.4977\n",
            "2/2 [==============================] - 0s 6ms/step - loss: 0.7795 - accuracy: 0.4800\n",
            "11/11 [==============================] - 1s 2ms/step - loss: 0.6461 - accuracy: 0.7189\n",
            "2/2 [==============================] - 0s 6ms/step - loss: 0.5942 - accuracy: 0.8000\n",
            "11/11 [==============================] - 0s 2ms/step - loss: 0.7562 - accuracy: 0.3899\n",
            "2/2 [==============================] - 0s 7ms/step - loss: 0.7142 - accuracy: 0.4167\n",
            "11/11 [==============================] - 1s 2ms/step - loss: 0.6905 - accuracy: 0.5872\n",
            "2/2 [==============================] - 0s 5ms/step - loss: 0.7054 - accuracy: 0.6250\n",
            "11/11 [==============================] - 1s 2ms/step - loss: 0.7439 - accuracy: 0.3991\n",
            "2/2 [==============================] - 0s 5ms/step - loss: 0.7365 - accuracy: 0.3750\n",
            "11/11 [==============================] - 1s 3ms/step - loss: 0.8196 - accuracy: 0.4587\n",
            "2/2 [==============================] - 0s 8ms/step - loss: 0.7877 - accuracy: 0.4167\n",
            "11/11 [==============================] - 1s 3ms/step - loss: 0.7445 - accuracy: 0.4771\n",
            "2/2 [==============================] - 0s 7ms/step - loss: 0.7051 - accuracy: 0.5000\n",
            "11/11 [==============================] - 0s 2ms/step - loss: 0.6179 - accuracy: 0.6239\n",
            "2/2 [==============================] - 0s 8ms/step - loss: 0.6213 - accuracy: 0.7083\n",
            "11/11 [==============================] - 1s 2ms/step - loss: 0.7211 - accuracy: 0.4633\n",
            "2/2 [==============================] - 0s 8ms/step - loss: 0.7155 - accuracy: 0.4167\n",
            "11/11 [==============================] - 1s 2ms/step - loss: 0.6931 - accuracy: 0.5229\n",
            "2/2 [==============================] - 0s 8ms/step - loss: 0.6560 - accuracy: 0.5833\n",
            "11/11 [==============================] - 1s 2ms/step - loss: 0.7432 - accuracy: 0.5484\n",
            "2/2 [==============================] - 0s 11ms/step - loss: 0.7646 - accuracy: 0.4800\n",
            "11/11 [==============================] - 1s 3ms/step - loss: 0.6745 - accuracy: 0.6221\n",
            "2/2 [==============================] - 0s 11ms/step - loss: 0.7453 - accuracy: 0.4800\n",
            "11/11 [==============================] - 1s 2ms/step - loss: 0.6696 - accuracy: 0.5780\n",
            "2/2 [==============================] - 0s 5ms/step - loss: 0.6996 - accuracy: 0.6250\n",
            "11/11 [==============================] - 1s 3ms/step - loss: 0.7794 - accuracy: 0.4220\n",
            "2/2 [==============================] - 0s 7ms/step - loss: 0.7372 - accuracy: 0.5833\n",
            "11/11 [==============================] - 1s 3ms/step - loss: 0.7082 - accuracy: 0.4679\n",
            "2/2 [==============================] - 0s 7ms/step - loss: 0.6657 - accuracy: 0.5000\n",
            "11/11 [==============================] - 1s 3ms/step - loss: 0.7455 - accuracy: 0.4128\n",
            "2/2 [==============================] - 0s 8ms/step - loss: 0.7219 - accuracy: 0.3333\n",
            "11/11 [==============================] - 1s 2ms/step - loss: 0.6966 - accuracy: 0.6239\n",
            "2/2 [==============================] - 0s 7ms/step - loss: 0.7142 - accuracy: 0.6250\n",
            "11/11 [==============================] - 1s 2ms/step - loss: 0.7212 - accuracy: 0.5000\n",
            "2/2 [==============================] - 0s 5ms/step - loss: 0.8082 - accuracy: 0.2917\n",
            "11/11 [==============================] - 1s 2ms/step - loss: 0.7709 - accuracy: 0.4037\n",
            "2/2 [==============================] - 0s 9ms/step - loss: 0.7118 - accuracy: 0.5833\n",
            "11/11 [==============================] - 1s 2ms/step - loss: 0.8082 - accuracy: 0.4083\n",
            "2/2 [==============================] - 0s 6ms/step - loss: 0.7284 - accuracy: 0.5833\n",
            "11/11 [==============================] - 1s 2ms/step - loss: 0.6921 - accuracy: 0.5530\n",
            "2/2 [==============================] - 0s 6ms/step - loss: 0.6620 - accuracy: 0.6000\n",
            "11/11 [==============================] - 1s 2ms/step - loss: 0.6642 - accuracy: 0.6359\n",
            "2/2 [==============================] - 0s 7ms/step - loss: 0.6922 - accuracy: 0.5600\n",
            "11/11 [==============================] - 1s 4ms/step - loss: 0.7918 - accuracy: 0.4312\n",
            "2/2 [==============================] - 0s 6ms/step - loss: 0.9120 - accuracy: 0.3750\n",
            "11/11 [==============================] - 1s 3ms/step - loss: 0.7719 - accuracy: 0.4908\n",
            "2/2 [==============================] - 0s 10ms/step - loss: 0.8097 - accuracy: 0.2917\n",
            "11/11 [==============================] - 0s 2ms/step - loss: 0.7868 - accuracy: 0.5138\n",
            "2/2 [==============================] - 0s 7ms/step - loss: 0.8040 - accuracy: 0.4583\n",
            "11/11 [==============================] - 1s 2ms/step - loss: 0.7130 - accuracy: 0.5550\n",
            "2/2 [==============================] - 0s 5ms/step - loss: 0.6857 - accuracy: 0.7500\n",
            "11/11 [==============================] - 0s 2ms/step - loss: 0.7188 - accuracy: 0.4954\n",
            "2/2 [==============================] - 0s 7ms/step - loss: 0.6443 - accuracy: 0.5417\n",
            "11/11 [==============================] - 1s 2ms/step - loss: 0.6271 - accuracy: 0.6651\n",
            "2/2 [==============================] - 0s 7ms/step - loss: 0.6452 - accuracy: 0.6250\n",
            "11/11 [==============================] - 1s 2ms/step - loss: 0.6558 - accuracy: 0.6468\n",
            "2/2 [==============================] - 0s 6ms/step - loss: 0.6743 - accuracy: 0.5833\n",
            "11/11 [==============================] - 1s 3ms/step - loss: 0.6945 - accuracy: 0.5642\n",
            "2/2 [==============================] - 0s 8ms/step - loss: 0.5748 - accuracy: 0.7083\n",
            "11/11 [==============================] - 0s 2ms/step - loss: 0.6666 - accuracy: 0.5023\n",
            "2/2 [==============================] - 0s 12ms/step - loss: 0.6983 - accuracy: 0.5200\n",
            "11/11 [==============================] - 1s 2ms/step - loss: 0.8095 - accuracy: 0.3963\n",
            "2/2 [==============================] - 0s 7ms/step - loss: 0.7004 - accuracy: 0.5600\n",
            "11/11 [==============================] - 1s 2ms/step - loss: 0.7074 - accuracy: 0.5550\n",
            "2/2 [==============================] - 0s 7ms/step - loss: 0.6788 - accuracy: 0.5833\n",
            "11/11 [==============================] - 1s 3ms/step - loss: 0.7142 - accuracy: 0.4495\n",
            "2/2 [==============================] - 0s 6ms/step - loss: 0.6243 - accuracy: 0.7500\n",
            "11/11 [==============================] - 1s 2ms/step - loss: 0.7196 - accuracy: 0.4862\n",
            "2/2 [==============================] - 0s 6ms/step - loss: 0.6819 - accuracy: 0.5833\n",
            "11/11 [==============================] - 1s 2ms/step - loss: 0.6576 - accuracy: 0.6147\n",
            "2/2 [==============================] - 0s 9ms/step - loss: 0.6594 - accuracy: 0.6667\n",
            "11/11 [==============================] - 1s 2ms/step - loss: 0.8835 - accuracy: 0.4633\n",
            "2/2 [==============================] - 0s 6ms/step - loss: 0.8686 - accuracy: 0.4167\n",
            "11/11 [==============================] - 1s 2ms/step - loss: 0.7337 - accuracy: 0.4358\n",
            "2/2 [==============================] - 0s 7ms/step - loss: 0.7481 - accuracy: 0.3333\n",
            "11/11 [==============================] - 1s 2ms/step - loss: 0.7279 - accuracy: 0.4541\n",
            "2/2 [==============================] - 0s 6ms/step - loss: 0.6963 - accuracy: 0.4583\n",
            "11/11 [==============================] - 1s 3ms/step - loss: 0.6608 - accuracy: 0.5917\n",
            "2/2 [==============================] - 0s 5ms/step - loss: 0.6196 - accuracy: 0.6250\n",
            "11/11 [==============================] - 0s 2ms/step - loss: 0.7066 - accuracy: 0.4562\n",
            "2/2 [==============================] - 0s 14ms/step - loss: 0.6655 - accuracy: 0.6400\n",
            "11/11 [==============================] - 0s 3ms/step - loss: 0.8365 - accuracy: 0.4700\n",
            "2/2 [==============================] - 0s 6ms/step - loss: 0.7770 - accuracy: 0.5600\n",
            "11/11 [==============================] - 0s 2ms/step - loss: 0.7738 - accuracy: 0.3761\n",
            "2/2 [==============================] - 0s 11ms/step - loss: 0.7450 - accuracy: 0.5000\n",
            "11/11 [==============================] - 1s 2ms/step - loss: 0.7263 - accuracy: 0.4679\n",
            "2/2 [==============================] - 0s 5ms/step - loss: 0.6212 - accuracy: 0.6250\n",
            "11/11 [==============================] - 1s 2ms/step - loss: 0.7068 - accuracy: 0.4862\n",
            "2/2 [==============================] - 0s 6ms/step - loss: 0.6875 - accuracy: 0.5417\n",
            "11/11 [==============================] - 1s 2ms/step - loss: 0.6795 - accuracy: 0.5688\n",
            "2/2 [==============================] - 0s 9ms/step - loss: 0.6838 - accuracy: 0.6667\n",
            "11/11 [==============================] - 0s 2ms/step - loss: 0.7585 - accuracy: 0.4679\n",
            "2/2 [==============================] - 0s 8ms/step - loss: 0.8603 - accuracy: 0.3750\n",
            "11/11 [==============================] - 1s 2ms/step - loss: 0.6280 - accuracy: 0.6101\n",
            "2/2 [==============================] - 0s 7ms/step - loss: 0.5501 - accuracy: 0.5833\n",
            "11/11 [==============================] - 1s 3ms/step - loss: 0.7146 - accuracy: 0.5550\n",
            "2/2 [==============================] - 0s 11ms/step - loss: 0.6909 - accuracy: 0.6667\n",
            "11/11 [==============================] - 1s 3ms/step - loss: 0.8430 - accuracy: 0.5092\n",
            "2/2 [==============================] - 0s 11ms/step - loss: 0.9266 - accuracy: 0.3333\n",
            "11/11 [==============================] - 1s 2ms/step - loss: 0.7012 - accuracy: 0.5760\n",
            "2/2 [==============================] - 0s 6ms/step - loss: 0.6134 - accuracy: 0.5600\n",
            "11/11 [==============================] - 1s 2ms/step - loss: 0.6460 - accuracy: 0.6267\n",
            "2/2 [==============================] - 0s 6ms/step - loss: 0.6295 - accuracy: 0.6000\n",
            "11/11 [==============================] - 1s 3ms/step - loss: 0.8487 - accuracy: 0.4817\n",
            "2/2 [==============================] - 0s 5ms/step - loss: 0.8585 - accuracy: 0.2917\n",
            "11/11 [==============================] - 1s 2ms/step - loss: 0.6630 - accuracy: 0.5963\n",
            "2/2 [==============================] - 0s 8ms/step - loss: 0.6943 - accuracy: 0.6667\n",
            "11/11 [==============================] - 1s 2ms/step - loss: 0.7875 - accuracy: 0.4633\n",
            "2/2 [==============================] - 0s 6ms/step - loss: 0.7260 - accuracy: 0.4167\n",
            "11/11 [==============================] - 1s 2ms/step - loss: 0.6551 - accuracy: 0.6239\n",
            "2/2 [==============================] - 0s 7ms/step - loss: 0.6568 - accuracy: 0.6250\n",
            "11/11 [==============================] - 0s 2ms/step - loss: 0.7482 - accuracy: 0.4128\n",
            "2/2 [==============================] - 0s 5ms/step - loss: 0.7728 - accuracy: 0.3750\n",
            "11/11 [==============================] - 1s 2ms/step - loss: 0.7727 - accuracy: 0.4908\n",
            "2/2 [==============================] - 0s 4ms/step - loss: 0.7889 - accuracy: 0.4167\n",
            "11/11 [==============================] - 1s 3ms/step - loss: 0.7068 - accuracy: 0.5596\n",
            "2/2 [==============================] - 0s 8ms/step - loss: 0.6709 - accuracy: 0.7083\n",
            "11/11 [==============================] - 1s 2ms/step - loss: 0.6930 - accuracy: 0.4541\n",
            "2/2 [==============================] - 0s 7ms/step - loss: 0.6523 - accuracy: 0.5000\n",
            "11/11 [==============================] - 1s 3ms/step - loss: 0.8698 - accuracy: 0.4562\n",
            "2/2 [==============================] - 0s 5ms/step - loss: 0.6808 - accuracy: 0.5200\n",
            "11/11 [==============================] - 1s 3ms/step - loss: 0.6882 - accuracy: 0.5668\n",
            "2/2 [==============================] - 0s 10ms/step - loss: 0.6366 - accuracy: 0.6400\n",
            "11/11 [==============================] - 1s 3ms/step - loss: 0.6091 - accuracy: 0.7156\n",
            "2/2 [==============================] - 0s 8ms/step - loss: 0.6216 - accuracy: 0.5833\n",
            "11/11 [==============================] - 1s 4ms/step - loss: 0.7160 - accuracy: 0.5505\n",
            "2/2 [==============================] - 0s 7ms/step - loss: 0.7245 - accuracy: 0.5833\n",
            "11/11 [==============================] - 1s 2ms/step - loss: 0.6100 - accuracy: 0.6789\n",
            "2/2 [==============================] - 0s 6ms/step - loss: 0.5236 - accuracy: 0.9167\n",
            "11/11 [==============================] - 1s 2ms/step - loss: 0.6701 - accuracy: 0.5642\n",
            "2/2 [==============================] - 0s 6ms/step - loss: 0.5664 - accuracy: 0.6667\n",
            "11/11 [==============================] - 1s 2ms/step - loss: 0.6474 - accuracy: 0.6697\n",
            "2/2 [==============================] - 0s 6ms/step - loss: 0.6348 - accuracy: 0.7500\n",
            "11/11 [==============================] - 1s 2ms/step - loss: 0.7359 - accuracy: 0.4633\n",
            "2/2 [==============================] - 0s 8ms/step - loss: 0.8357 - accuracy: 0.2917\n",
            "11/11 [==============================] - 1s 2ms/step - loss: 0.7894 - accuracy: 0.4358\n",
            "2/2 [==============================] - 0s 9ms/step - loss: 0.6818 - accuracy: 0.6250\n",
            "11/11 [==============================] - 1s 3ms/step - loss: 0.6631 - accuracy: 0.5780\n",
            "2/2 [==============================] - 0s 7ms/step - loss: 0.6795 - accuracy: 0.6250\n",
            "5/5 [==============================] - 1s 4ms/step - loss: 0.6241 - accuracy: 0.6221\n",
            "1/1 [==============================] - 0s 128ms/step - loss: 0.6408 - accuracy: 0.6000\n",
            "5/5 [==============================] - 1s 5ms/step - loss: 0.8524 - accuracy: 0.4470\n",
            "1/1 [==============================] - 0s 124ms/step - loss: 0.7294 - accuracy: 0.5600\n",
            "5/5 [==============================] - 0s 4ms/step - loss: 0.8815 - accuracy: 0.3899\n",
            "1/1 [==============================] - 0s 121ms/step - loss: 0.7016 - accuracy: 0.5000\n",
            "5/5 [==============================] - 1s 5ms/step - loss: 0.7601 - accuracy: 0.5459\n",
            "1/1 [==============================] - 0s 134ms/step - loss: 0.7776 - accuracy: 0.5000\n",
            "5/5 [==============================] - 1s 6ms/step - loss: 0.7009 - accuracy: 0.5275\n",
            "1/1 [==============================] - 0s 133ms/step - loss: 0.7363 - accuracy: 0.5000\n",
            "5/5 [==============================] - 1s 6ms/step - loss: 0.6786 - accuracy: 0.5826\n",
            "1/1 [==============================] - 0s 125ms/step - loss: 0.6779 - accuracy: 0.6250\n",
            "5/5 [==============================] - 1s 4ms/step - loss: 0.6254 - accuracy: 0.6376\n",
            "1/1 [==============================] - 0s 122ms/step - loss: 0.5231 - accuracy: 0.8333\n",
            "5/5 [==============================] - 1s 4ms/step - loss: 0.9488 - accuracy: 0.3716\n",
            "1/1 [==============================] - 0s 125ms/step - loss: 0.8980 - accuracy: 0.2500\n",
            "5/5 [==============================] - 1s 4ms/step - loss: 0.6521 - accuracy: 0.6514\n",
            "1/1 [==============================] - 0s 118ms/step - loss: 0.6455 - accuracy: 0.6250\n",
            "5/5 [==============================] - 1s 4ms/step - loss: 0.7938 - accuracy: 0.5183\n",
            "1/1 [==============================] - 0s 126ms/step - loss: 1.0071 - accuracy: 0.3750\n",
            "5/5 [==============================] - 1s 4ms/step - loss: 0.8241 - accuracy: 0.3318\n",
            "1/1 [==============================] - 0s 119ms/step - loss: 0.7615 - accuracy: 0.3600\n",
            "5/5 [==============================] - 1s 4ms/step - loss: 0.6292 - accuracy: 0.7097\n",
            "1/1 [==============================] - 0s 123ms/step - loss: 0.6086 - accuracy: 0.6800\n",
            "5/5 [==============================] - 1s 5ms/step - loss: 0.6744 - accuracy: 0.5872\n",
            "1/1 [==============================] - 0s 128ms/step - loss: 0.7291 - accuracy: 0.3750\n",
            "5/5 [==============================] - 1s 5ms/step - loss: 0.7117 - accuracy: 0.5413\n",
            "1/1 [==============================] - 0s 120ms/step - loss: 0.6171 - accuracy: 0.6250\n",
            "5/5 [==============================] - 1s 4ms/step - loss: 0.7254 - accuracy: 0.4679\n",
            "1/1 [==============================] - 0s 122ms/step - loss: 0.7119 - accuracy: 0.4583\n",
            "5/5 [==============================] - 1s 6ms/step - loss: 0.6631 - accuracy: 0.6376\n",
            "1/1 [==============================] - 0s 146ms/step - loss: 0.6932 - accuracy: 0.5417\n",
            "5/5 [==============================] - 1s 4ms/step - loss: 0.7066 - accuracy: 0.5505\n",
            "1/1 [==============================] - 0s 125ms/step - loss: 0.6654 - accuracy: 0.6667\n",
            "5/5 [==============================] - 1s 4ms/step - loss: 0.8637 - accuracy: 0.4404\n",
            "1/1 [==============================] - 0s 137ms/step - loss: 0.7627 - accuracy: 0.5417\n",
            "5/5 [==============================] - 1s 5ms/step - loss: 0.8840 - accuracy: 0.4633\n",
            "1/1 [==============================] - 0s 132ms/step - loss: 0.8714 - accuracy: 0.5417\n",
            "5/5 [==============================] - 1s 4ms/step - loss: 0.7850 - accuracy: 0.5505\n",
            "1/1 [==============================] - 0s 120ms/step - loss: 0.8357 - accuracy: 0.4167\n",
            "5/5 [==============================] - 1s 4ms/step - loss: 0.6985 - accuracy: 0.5346\n",
            "1/1 [==============================] - 0s 126ms/step - loss: 0.7065 - accuracy: 0.4800\n",
            "5/5 [==============================] - 1s 5ms/step - loss: 0.7006 - accuracy: 0.5207\n",
            "1/1 [==============================] - 0s 141ms/step - loss: 0.5619 - accuracy: 0.7600\n",
            "5/5 [==============================] - 0s 5ms/step - loss: 0.7493 - accuracy: 0.4771\n",
            "1/1 [==============================] - 0s 125ms/step - loss: 0.8023 - accuracy: 0.3333\n",
            "5/5 [==============================] - 1s 4ms/step - loss: 0.7153 - accuracy: 0.4587\n",
            "1/1 [==============================] - 0s 117ms/step - loss: 0.6772 - accuracy: 0.6250\n",
            "5/5 [==============================] - 1s 5ms/step - loss: 0.7201 - accuracy: 0.4862\n",
            "1/1 [==============================] - 0s 126ms/step - loss: 0.6798 - accuracy: 0.5000\n",
            "5/5 [==============================] - 1s 4ms/step - loss: 0.7942 - accuracy: 0.4817\n",
            "1/1 [==============================] - 0s 130ms/step - loss: 0.7725 - accuracy: 0.4583\n",
            "5/5 [==============================] - 0s 5ms/step - loss: 0.7986 - accuracy: 0.3624\n",
            "1/1 [==============================] - 0s 119ms/step - loss: 0.7021 - accuracy: 0.5000\n",
            "5/5 [==============================] - 1s 4ms/step - loss: 0.6964 - accuracy: 0.5459\n",
            "1/1 [==============================] - 0s 145ms/step - loss: 0.6309 - accuracy: 0.5417\n",
            "5/5 [==============================] - 1s 3ms/step - loss: 0.7015 - accuracy: 0.5092\n",
            "1/1 [==============================] - 0s 129ms/step - loss: 0.6993 - accuracy: 0.5417\n",
            "5/5 [==============================] - 1s 5ms/step - loss: 0.7988 - accuracy: 0.3991\n",
            "1/1 [==============================] - 0s 127ms/step - loss: 0.8899 - accuracy: 0.2500\n",
            "5/5 [==============================] - 1s 4ms/step - loss: 0.6419 - accuracy: 0.6452\n",
            "1/1 [==============================] - 0s 139ms/step - loss: 0.6663 - accuracy: 0.6000\n",
            "5/5 [==============================] - 1s 4ms/step - loss: 0.7324 - accuracy: 0.5346\n",
            "1/1 [==============================] - 0s 122ms/step - loss: 0.6973 - accuracy: 0.6000\n",
            "5/5 [==============================] - 1s 4ms/step - loss: 0.7205 - accuracy: 0.4771\n",
            "1/1 [==============================] - 0s 126ms/step - loss: 0.6240 - accuracy: 0.6250\n",
            "5/5 [==============================] - 1s 4ms/step - loss: 0.7332 - accuracy: 0.4128\n",
            "1/1 [==============================] - 0s 137ms/step - loss: 0.7048 - accuracy: 0.4583\n",
            "5/5 [==============================] - 1s 4ms/step - loss: 0.7533 - accuracy: 0.4220\n",
            "1/1 [==============================] - 0s 118ms/step - loss: 0.8477 - accuracy: 0.2083\n",
            "5/5 [==============================] - 1s 4ms/step - loss: 0.6849 - accuracy: 0.5550\n",
            "1/1 [==============================] - 0s 123ms/step - loss: 0.6402 - accuracy: 0.6250\n",
            "5/5 [==============================] - 1s 5ms/step - loss: 0.6543 - accuracy: 0.6101\n",
            "1/1 [==============================] - 0s 131ms/step - loss: 0.5800 - accuracy: 0.7500\n",
            "5/5 [==============================] - 1s 5ms/step - loss: 0.8631 - accuracy: 0.4358\n",
            "1/1 [==============================] - 0s 133ms/step - loss: 0.6708 - accuracy: 0.5833\n",
            "5/5 [==============================] - 1s 5ms/step - loss: 0.7593 - accuracy: 0.5183\n",
            "1/1 [==============================] - 0s 122ms/step - loss: 0.6950 - accuracy: 0.5417\n",
            "5/5 [==============================] - 1s 5ms/step - loss: 0.6998 - accuracy: 0.5138\n",
            "1/1 [==============================] - 0s 134ms/step - loss: 0.7493 - accuracy: 0.4167\n",
            "5/5 [==============================] - 1s 4ms/step - loss: 0.6731 - accuracy: 0.5622\n",
            "1/1 [==============================] - 0s 127ms/step - loss: 0.6759 - accuracy: 0.5200\n",
            "5/5 [==============================] - 1s 5ms/step - loss: 0.7822 - accuracy: 0.4793\n",
            "1/1 [==============================] - 0s 130ms/step - loss: 0.6978 - accuracy: 0.6400\n",
            "5/5 [==============================] - 1s 6ms/step - loss: 0.6928 - accuracy: 0.5642\n",
            "1/1 [==============================] - 0s 129ms/step - loss: 0.7517 - accuracy: 0.3333\n",
            "5/5 [==============================] - 1s 5ms/step - loss: 0.6258 - accuracy: 0.6101\n",
            "1/1 [==============================] - 0s 128ms/step - loss: 0.5980 - accuracy: 0.6667\n",
            "5/5 [==============================] - 1s 6ms/step - loss: 0.7514 - accuracy: 0.4037\n",
            "1/1 [==============================] - 0s 123ms/step - loss: 0.8820 - accuracy: 0.2917\n",
            "5/5 [==============================] - 1s 4ms/step - loss: 0.7597 - accuracy: 0.4495\n",
            "1/1 [==============================] - 0s 134ms/step - loss: 0.7709 - accuracy: 0.4167\n",
            "5/5 [==============================] - 1s 4ms/step - loss: 0.6849 - accuracy: 0.5505\n",
            "1/1 [==============================] - 0s 125ms/step - loss: 0.6844 - accuracy: 0.5000\n",
            "5/5 [==============================] - 1s 4ms/step - loss: 0.6667 - accuracy: 0.5413\n",
            "1/1 [==============================] - 0s 122ms/step - loss: 0.7291 - accuracy: 0.3750\n",
            "5/5 [==============================] - 1s 5ms/step - loss: 0.6636 - accuracy: 0.6284\n",
            "1/1 [==============================] - 0s 126ms/step - loss: 0.6894 - accuracy: 0.5833\n",
            "5/5 [==============================] - 1s 5ms/step - loss: 0.7502 - accuracy: 0.5688\n",
            "1/1 [==============================] - 0s 134ms/step - loss: 0.8503 - accuracy: 0.4167\n",
            "5/5 [==============================] - 1s 6ms/step - loss: 0.7878 - accuracy: 0.3641\n",
            "1/1 [==============================] - 0s 129ms/step - loss: 0.7187 - accuracy: 0.5200\n",
            "5/5 [==============================] - 1s 5ms/step - loss: 0.9293 - accuracy: 0.2811\n",
            "1/1 [==============================] - 0s 132ms/step - loss: 0.8787 - accuracy: 0.3200\n",
            "5/5 [==============================] - 1s 5ms/step - loss: 0.7621 - accuracy: 0.4725\n",
            "1/1 [==============================] - 0s 127ms/step - loss: 1.0466 - accuracy: 0.3333\n",
            "5/5 [==============================] - 1s 3ms/step - loss: 0.6712 - accuracy: 0.5688\n",
            "1/1 [==============================] - 0s 122ms/step - loss: 0.6323 - accuracy: 0.5833\n",
            "5/5 [==============================] - 1s 5ms/step - loss: 0.9653 - accuracy: 0.5367\n",
            "1/1 [==============================] - 0s 126ms/step - loss: 1.0242 - accuracy: 0.5833\n",
            "5/5 [==============================] - 1s 4ms/step - loss: 0.6132 - accuracy: 0.7018\n",
            "1/1 [==============================] - 0s 134ms/step - loss: 0.6604 - accuracy: 0.7083\n",
            "5/5 [==============================] - 1s 4ms/step - loss: 0.6867 - accuracy: 0.5917\n",
            "1/1 [==============================] - 0s 142ms/step - loss: 0.7128 - accuracy: 0.5833\n",
            "5/5 [==============================] - 1s 6ms/step - loss: 0.7109 - accuracy: 0.5138\n",
            "1/1 [==============================] - 0s 129ms/step - loss: 0.8340 - accuracy: 0.3333\n",
            "5/5 [==============================] - 1s 4ms/step - loss: 0.7142 - accuracy: 0.4771\n",
            "1/1 [==============================] - 0s 121ms/step - loss: 0.7582 - accuracy: 0.5000\n",
            "5/5 [==============================] - 1s 4ms/step - loss: 0.7108 - accuracy: 0.4587\n",
            "1/1 [==============================] - 0s 126ms/step - loss: 0.7294 - accuracy: 0.4583\n",
            "5/5 [==============================] - 1s 5ms/step - loss: 0.7380 - accuracy: 0.4977\n",
            "1/1 [==============================] - 0s 125ms/step - loss: 0.7207 - accuracy: 0.4800\n",
            "5/5 [==============================] - 1s 5ms/step - loss: 0.8152 - accuracy: 0.3364\n",
            "1/1 [==============================] - 0s 133ms/step - loss: 0.7653 - accuracy: 0.2400\n",
            "5/5 [==============================] - 0s 4ms/step - loss: 0.6581 - accuracy: 0.6284\n",
            "1/1 [==============================] - 0s 117ms/step - loss: 0.7343 - accuracy: 0.6250\n",
            "5/5 [==============================] - 1s 4ms/step - loss: 0.6914 - accuracy: 0.5550\n",
            "1/1 [==============================] - 0s 123ms/step - loss: 0.6856 - accuracy: 0.5417\n",
            "5/5 [==============================] - 1s 5ms/step - loss: 0.7125 - accuracy: 0.4725\n",
            "1/1 [==============================] - 0s 131ms/step - loss: 0.7504 - accuracy: 0.3333\n",
            "5/5 [==============================] - 1s 6ms/step - loss: 0.7235 - accuracy: 0.5046\n",
            "1/1 [==============================] - 0s 135ms/step - loss: 0.7670 - accuracy: 0.3750\n",
            "5/5 [==============================] - 1s 4ms/step - loss: 0.7344 - accuracy: 0.4908\n",
            "1/1 [==============================] - 0s 128ms/step - loss: 0.6882 - accuracy: 0.5417\n",
            "5/5 [==============================] - 1s 5ms/step - loss: 0.8854 - accuracy: 0.5275\n",
            "1/1 [==============================] - 0s 122ms/step - loss: 0.7763 - accuracy: 0.6667\n",
            "5/5 [==============================] - 1s 4ms/step - loss: 0.6503 - accuracy: 0.6881\n",
            "1/1 [==============================] - 0s 121ms/step - loss: 0.7039 - accuracy: 0.3750\n",
            "5/5 [==============================] - 1s 4ms/step - loss: 0.7704 - accuracy: 0.4083\n",
            "1/1 [==============================] - 0s 139ms/step - loss: 0.7738 - accuracy: 0.3333\n",
            "5/5 [==============================] - 1s 6ms/step - loss: 0.6481 - accuracy: 0.5853\n",
            "1/1 [==============================] - 0s 137ms/step - loss: 0.7152 - accuracy: 0.5600\n",
            "5/5 [==============================] - 1s 5ms/step - loss: 0.6551 - accuracy: 0.6083\n",
            "1/1 [==============================] - 0s 139ms/step - loss: 0.6872 - accuracy: 0.4800\n",
            "5/5 [==============================] - 1s 4ms/step - loss: 0.7585 - accuracy: 0.5046\n",
            "1/1 [==============================] - 0s 124ms/step - loss: 0.6310 - accuracy: 0.6667\n",
            "5/5 [==============================] - 1s 4ms/step - loss: 0.7140 - accuracy: 0.5550\n",
            "1/1 [==============================] - 0s 134ms/step - loss: 0.8289 - accuracy: 0.3750\n",
            "5/5 [==============================] - 1s 4ms/step - loss: 0.8524 - accuracy: 0.3624\n",
            "1/1 [==============================] - 0s 137ms/step - loss: 0.8936 - accuracy: 0.2500\n",
            "5/5 [==============================] - 1s 4ms/step - loss: 0.8483 - accuracy: 0.3853\n",
            "1/1 [==============================] - 0s 130ms/step - loss: 0.7989 - accuracy: 0.4583\n",
            "5/5 [==============================] - 0s 4ms/step - loss: 0.7260 - accuracy: 0.4128\n",
            "1/1 [==============================] - 0s 144ms/step - loss: 0.7379 - accuracy: 0.4583\n",
            "5/5 [==============================] - 1s 4ms/step - loss: 0.7023 - accuracy: 0.5550\n",
            "1/1 [==============================] - 0s 116ms/step - loss: 0.7291 - accuracy: 0.5000\n",
            "5/5 [==============================] - 1s 4ms/step - loss: 0.7050 - accuracy: 0.6376\n",
            "1/1 [==============================] - 0s 115ms/step - loss: 0.6691 - accuracy: 0.6250\n",
            "5/5 [==============================] - 1s 4ms/step - loss: 0.7038 - accuracy: 0.5505\n",
            "1/1 [==============================] - 0s 129ms/step - loss: 0.7581 - accuracy: 0.5833\n",
            "5/5 [==============================] - 1s 4ms/step - loss: 0.8685 - accuracy: 0.5438\n",
            "1/1 [==============================] - 0s 139ms/step - loss: 0.8091 - accuracy: 0.4800\n",
            "5/5 [==============================] - 1s 4ms/step - loss: 0.8148 - accuracy: 0.4240\n",
            "1/1 [==============================] - 0s 142ms/step - loss: 0.7422 - accuracy: 0.5200\n",
            "5/5 [==============================] - 1s 5ms/step - loss: 0.7382 - accuracy: 0.4862\n",
            "1/1 [==============================] - 0s 119ms/step - loss: 0.7731 - accuracy: 0.4167\n",
            "5/5 [==============================] - 1s 6ms/step - loss: 0.7404 - accuracy: 0.4587\n",
            "1/1 [==============================] - 0s 120ms/step - loss: 0.6870 - accuracy: 0.5000\n",
            "5/5 [==============================] - 1s 5ms/step - loss: 0.6406 - accuracy: 0.7202\n",
            "1/1 [==============================] - 0s 139ms/step - loss: 0.5626 - accuracy: 0.8750\n",
            "5/5 [==============================] - 1s 4ms/step - loss: 0.8596 - accuracy: 0.4404\n",
            "1/1 [==============================] - 0s 120ms/step - loss: 0.8774 - accuracy: 0.4583\n",
            "5/5 [==============================] - 1s 4ms/step - loss: 0.8796 - accuracy: 0.3945\n",
            "1/1 [==============================] - 0s 131ms/step - loss: 0.8922 - accuracy: 0.3750\n",
            "5/5 [==============================] - 1s 5ms/step - loss: 0.7313 - accuracy: 0.4725\n",
            "1/1 [==============================] - 0s 144ms/step - loss: 0.8321 - accuracy: 0.3333\n",
            "5/5 [==============================] - 1s 6ms/step - loss: 0.7269 - accuracy: 0.5183\n",
            "1/1 [==============================] - 0s 131ms/step - loss: 0.7263 - accuracy: 0.5417\n",
            "5/5 [==============================] - 0s 4ms/step - loss: 0.6242 - accuracy: 0.6881\n",
            "1/1 [==============================] - 0s 123ms/step - loss: 0.6479 - accuracy: 0.6667\n",
            "13/13 [==============================] - 1s 2ms/step - loss: 0.8869 - accuracy: 0.4545\n"
          ],
          "name": "stdout"
        }
      ]
    },
    {
      "cell_type": "code",
      "metadata": {
        "colab": {
          "base_uri": "https://localhost:8080/"
        },
        "id": "36WJantOVpwc",
        "outputId": "7e656e2d-e9a9-415e-88bc-f8824a4014d5"
      },
      "source": [
        "best_params=gs.best_params_\n",
        "accuracy=gs.best_score_\n",
        "\n",
        "print(best_params)\n",
        "\n",
        "print (accuracy)"
      ],
      "execution_count": null,
      "outputs": [
        {
          "output_type": "stream",
          "text": [
            "{'batch_size': 20, 'nb_epoch': 300, 'unit': 15}\n",
            "0.6201666623353959\n"
          ],
          "name": "stdout"
        }
      ]
    },
    {
      "cell_type": "markdown",
      "metadata": {
        "id": "_ElTWPy6NOEY"
      },
      "source": [
        "**Feature Importance**"
      ]
    },
    {
      "cell_type": "code",
      "metadata": {
        "colab": {
          "base_uri": "https://localhost:8080/"
        },
        "id": "jBVyrVKkNQVO",
        "outputId": "f755ef09-8df0-4ac7-a2f3-73f8dc61b344"
      },
      "source": [
        "#Import linear Doscriminant analysis method from sklearn library\n",
        "from sklearn.discriminant_analysis import LinearDiscriminantAnalysis as LDA\n",
        "#create an instance of LDA\n",
        "lda=LDA()\n",
        "lda_=lda.fit(X,y)\n",
        "lda_x=lda_.transform(X)\n",
        "lda_.coef_"
      ],
      "execution_count": null,
      "outputs": [
        {
          "output_type": "execute_result",
          "data": {
            "text/plain": [
              "array([[-0.00681126, -1.62719637,  0.9356873 , -0.01652941, -0.00293515,\n",
              "         0.14423959,  0.41384821,  0.02506711, -1.19589967, -0.48807609,\n",
              "         0.65569868, -0.83522031, -0.98828825]])"
            ]
          },
          "metadata": {
            "tags": []
          },
          "execution_count": 71
        }
      ]
    },
    {
      "cell_type": "code",
      "metadata": {
        "colab": {
          "base_uri": "https://localhost:8080/",
          "height": 447
        },
        "id": "8xakeCT1Nti0",
        "outputId": "2b43d68f-e302-4720-84bd-675e66cef3c4"
      },
      "source": [
        "#creating a dataframe to get the name of the columns and their coefficients\n",
        "df=pd.DataFrame(index=X.columns.values,data=lda_.coef_[0].T)\n",
        "df.sort_values(0,ascending=False)"
      ],
      "execution_count": null,
      "outputs": [
        {
          "output_type": "execute_result",
          "data": {
            "text/html": [
              "<div>\n",
              "<style scoped>\n",
              "    .dataframe tbody tr th:only-of-type {\n",
              "        vertical-align: middle;\n",
              "    }\n",
              "\n",
              "    .dataframe tbody tr th {\n",
              "        vertical-align: top;\n",
              "    }\n",
              "\n",
              "    .dataframe thead th {\n",
              "        text-align: right;\n",
              "    }\n",
              "</style>\n",
              "<table border=\"1\" class=\"dataframe\">\n",
              "  <thead>\n",
              "    <tr style=\"text-align: right;\">\n",
              "      <th></th>\n",
              "      <th>0</th>\n",
              "    </tr>\n",
              "  </thead>\n",
              "  <tbody>\n",
              "    <tr>\n",
              "      <th>cp</th>\n",
              "      <td>0.935687</td>\n",
              "    </tr>\n",
              "    <tr>\n",
              "      <th>slope</th>\n",
              "      <td>0.655699</td>\n",
              "    </tr>\n",
              "    <tr>\n",
              "      <th>restecg</th>\n",
              "      <td>0.413848</td>\n",
              "    </tr>\n",
              "    <tr>\n",
              "      <th>fbs</th>\n",
              "      <td>0.144240</td>\n",
              "    </tr>\n",
              "    <tr>\n",
              "      <th>thalach</th>\n",
              "      <td>0.025067</td>\n",
              "    </tr>\n",
              "    <tr>\n",
              "      <th>chol</th>\n",
              "      <td>-0.002935</td>\n",
              "    </tr>\n",
              "    <tr>\n",
              "      <th>age</th>\n",
              "      <td>-0.006811</td>\n",
              "    </tr>\n",
              "    <tr>\n",
              "      <th>trestbps</th>\n",
              "      <td>-0.016529</td>\n",
              "    </tr>\n",
              "    <tr>\n",
              "      <th>oldpeak</th>\n",
              "      <td>-0.488076</td>\n",
              "    </tr>\n",
              "    <tr>\n",
              "      <th>ca</th>\n",
              "      <td>-0.835220</td>\n",
              "    </tr>\n",
              "    <tr>\n",
              "      <th>thal</th>\n",
              "      <td>-0.988288</td>\n",
              "    </tr>\n",
              "    <tr>\n",
              "      <th>exang</th>\n",
              "      <td>-1.195900</td>\n",
              "    </tr>\n",
              "    <tr>\n",
              "      <th>sex</th>\n",
              "      <td>-1.627196</td>\n",
              "    </tr>\n",
              "  </tbody>\n",
              "</table>\n",
              "</div>"
            ],
            "text/plain": [
              "                 0\n",
              "cp        0.935687\n",
              "slope     0.655699\n",
              "restecg   0.413848\n",
              "fbs       0.144240\n",
              "thalach   0.025067\n",
              "chol     -0.002935\n",
              "age      -0.006811\n",
              "trestbps -0.016529\n",
              "oldpeak  -0.488076\n",
              "ca       -0.835220\n",
              "thal     -0.988288\n",
              "exang    -1.195900\n",
              "sex      -1.627196"
            ]
          },
          "metadata": {
            "tags": []
          },
          "execution_count": 72
        }
      ]
    },
    {
      "cell_type": "markdown",
      "metadata": {
        "id": "bLnmpM1HOscl"
      },
      "source": [
        "The top features in determining heart diseases were chest pain type (cp), maximum heart rate achieved (thalach), and ST depression caused by exercise relative to rest (slope). "
      ]
    },
    {
      "cell_type": "markdown",
      "metadata": {
        "id": "to1uU6R7Yt00"
      },
      "source": [
        "**Model Scores**"
      ]
    },
    {
      "cell_type": "code",
      "metadata": {
        "colab": {
          "base_uri": "https://localhost:8080/"
        },
        "id": "KnMB-BeQYype",
        "outputId": "43111644-65f1-4546-8e95-fea292d7695c"
      },
      "source": [
        "scores = [mlp_nn, score_nn]\n",
        "algorithms = [\"Multi-Layer Perceptron Classifier\", \"Keras Classifier\"]    \n",
        "\n",
        "for i in range(len(algorithms)):\n",
        "    print(\"The accuracy score achieved using \"+algorithms[i]+\" is: \"+str(scores[i])+\" %\")"
      ],
      "execution_count": null,
      "outputs": [
        {
          "output_type": "stream",
          "text": [
            "The accuracy score achieved using Multi-Layer Perceptron Classifier is: 75.40983606557377 %\n",
            "The accuracy score achieved using Keras Classifier is: 86.89 %\n"
          ],
          "name": "stdout"
        }
      ]
    },
    {
      "cell_type": "code",
      "metadata": {
        "colab": {
          "base_uri": "https://localhost:8080/",
          "height": 520
        },
        "id": "s4ghG95KY4YF",
        "outputId": "8ee398f3-5f7d-438b-c626-c94979f87e25"
      },
      "source": [
        "sns.set(rc={'figure.figsize':(15,8)})\n",
        "plt.xlabel(\"Algorithms\")\n",
        "plt.ylabel(\"Accuracy score\")\n",
        "\n",
        "sns.barplot(algorithms,scores)"
      ],
      "execution_count": null,
      "outputs": [
        {
          "output_type": "execute_result",
          "data": {
            "text/plain": [
              "<matplotlib.axes._subplots.AxesSubplot at 0x7f9604aa9bd0>"
            ]
          },
          "metadata": {
            "tags": []
          },
          "execution_count": 74
        },
        {
          "output_type": "display_data",
          "data": {
            "image/png": "[encoded data removed]",
            "text/plain": [
              "<Figure size 1080x576 with 1 Axes>"
            ]
          },
          "metadata": {
            "tags": []
          }
        }
      ]
    },
    {
      "cell_type": "markdown",
      "metadata": {
        "id": "guJhfZA7eb5T"
      },
      "source": [
        "#**Recommendation**\n",
        "Based on our insights, we would recommend that the senior citizens to maintain a reasonable body weight. Check your cholesterol level regularly, \n",
        "especially if your family has a history of heart disease. Avoid smoking tobacco, using intravenous drugs, or taking street drugs."
      ]
    }
  ]
}